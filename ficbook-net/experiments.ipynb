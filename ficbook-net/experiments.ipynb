{
 "cells": [
  {
   "cell_type": "code",
   "execution_count": 1,
   "metadata": {},
   "outputs": [],
   "source": [
    "from selenium import webdriver\n",
    "from selenium.common.exceptions import NoSuchElementException\n",
    "from selenium.webdriver.remote.webelement import WebElement\n",
    "\n",
    "from datetime import timedelta, date\n",
    "import os\n",
    "import logging\n",
    "logging.basicConfig(format='%(levelname)s:%(message)s', level=logging.INFO)\n",
    "\n",
    "def selenium_initializer():\n",
    "    options = webdriver.ChromeOptions()\n",
    "    options.add_argument('--ignore-certificate-errors')\n",
    "    options.add_argument('--ignore-ssl-errors')\n",
    "    driver = webdriver.Chrome('../chromedriver', chrome_options=options)\n",
    "    return driver\n"
   ]
  },
  {
   "cell_type": "code",
   "execution_count": 2,
   "metadata": {},
   "outputs": [],
   "source": [
    "from tqdm import tqdm_notebook"
   ]
  },
  {
   "cell_type": "code",
   "execution_count": null,
   "metadata": {},
   "outputs": [],
   "source": [
    "!pip install peewee"
   ]
  },
  {
   "cell_type": "code",
   "execution_count": 3,
   "metadata": {},
   "outputs": [],
   "source": [
    "def daterange(start_date, end_date):\n",
    "    for n in range(int ((end_date - start_date).days)):\n",
    "        yield start_date + timedelta(n)\n"
   ]
  },
  {
   "cell_type": "code",
   "execution_count": 7,
   "metadata": {},
   "outputs": [],
   "source": [
    "start_date = date(2020, 1, 1)\n",
    "end_date = date(2020, 1, 3)"
   ]
  },
  {
   "cell_type": "code",
   "execution_count": 8,
   "metadata": {},
   "outputs": [
    {
     "name": "stderr",
     "output_type": "stream",
     "text": [
      "/Users/oleg/opt/anaconda3/lib/python3.7/site-packages/ipykernel_launcher.py:14: DeprecationWarning: use options instead of chrome_options\n",
      "  \n"
     ]
    }
   ],
   "source": [
    "driver = selenium_initializer()"
   ]
  },
  {
   "cell_type": "code",
   "execution_count": null,
   "metadata": {},
   "outputs": [],
   "source": []
  },
  {
   "cell_type": "code",
   "execution_count": 9,
   "metadata": {},
   "outputs": [
    {
     "name": "stderr",
     "output_type": "stream",
     "text": [
      "INFO:Searching by link: https://ficbook.net/find?title=&fandom_filter=any&fandom_group_id=1&sizes%5B%5D=3&sizes%5B%5D=4&pages_min=&pages_max=&ratings%5B%5D=5&ratings%5B%5D=6&ratings%5B%5D=7&ratings%5B%5D=8&ratings%5B%5D=9&transl=1&statuses%5B%5D=2&directions%5B%5D=1&directions%5B%5D=2&directions%5B%5D=3&directions%5B%5D=4&directions%5B%5D=7&directions%5B%5D=6&directions%5B%5D=5&author=0&likes_min=&likes_max=&dateFilter=1&date_create_min=2020-1-1&date_create_max=2020-1-2&date_update_min=2019-12-27&date_update_max=2019-12-27&sort=3&rnd=777383900&find=%D0%9D%D0%B0%D0%B9%D1%82%D0%B8%21#result\n"
     ]
    },
    {
     "name": "stdout",
     "output_type": "stream",
     "text": [
      "From: 2020-1-1 | To: 2020-1-2\n"
     ]
    },
    {
     "name": "stderr",
     "output_type": "stream",
     "text": [
      "INFO:Searching by link: https://ficbook.net/find?title=&fandom_filter=any&fandom_group_id=1&sizes%5B%5D=3&sizes%5B%5D=4&pages_min=&pages_max=&ratings%5B%5D=5&ratings%5B%5D=6&ratings%5B%5D=7&ratings%5B%5D=8&ratings%5B%5D=9&transl=1&statuses%5B%5D=2&directions%5B%5D=1&directions%5B%5D=2&directions%5B%5D=3&directions%5B%5D=4&directions%5B%5D=7&directions%5B%5D=6&directions%5B%5D=5&author=0&likes_min=&likes_max=&dateFilter=1&date_create_min=2020-1-2&date_create_max=2020-1-3&date_update_min=2019-12-27&date_update_max=2019-12-27&sort=3&rnd=777383900&find=%D0%9D%D0%B0%D0%B9%D1%82%D0%B8%21#result\n"
     ]
    },
    {
     "name": "stdout",
     "output_type": "stream",
     "text": [
      "From: 2020-1-2 | To: 2020-1-3\n"
     ]
    }
   ],
   "source": [
    "for from_date in daterange(start_date, end_date):\n",
    "    to_date = from_date + timedelta(days=1)\n",
    "    print(\"From: {}-{}-{} | To: {}-{}-{}\".format(from_date.year, from_date.month, from_date.day,\n",
    "                                                 to_date.year, to_date.month, to_date.day))\n",
    "    TARGET_SEARCH_LINK = 'https://ficbook.net/find?title=&fandom_filter=any&fandom_group_id=1&sizes%5B%5D=3&sizes%5B%5D=4&pages_min=&pages_max=&ratings%5B%5D=5&ratings%5B%5D=6&ratings%5B%5D=7&ratings%5B%5D=8&ratings%5B%5D=9&transl=1&statuses%5B%5D=2&directions%5B%5D=1&directions%5B%5D=2&directions%5B%5D=3&directions%5B%5D=4&directions%5B%5D=7&directions%5B%5D=6&directions%5B%5D=5&author=0&likes_min=&likes_max=&dateFilter=1&date_create_min={}-{}-{}&date_create_max={}-{}-{}&date_update_min=2019-12-27&date_update_max=2019-12-27&sort=3&rnd=777383900&find=%D0%9D%D0%B0%D0%B9%D1%82%D0%B8%21#result'.format(\n",
    "        from_date.year, from_date.month, from_date.day,\n",
    "        to_date.year, to_date.month, to_date.day)\n",
    "    logging.info(\"Searching by link: {}\".format(TARGET_SEARCH_LINK))\n",
    "    driver.get(TARGET_SEARCH_LINK)"
   ]
  },
  {
   "cell_type": "code",
   "execution_count": 11,
   "metadata": {},
   "outputs": [],
   "source": [
    "#db.close()\n",
    "os.remove('ficbook-net.db')"
   ]
  },
  {
   "cell_type": "code",
   "execution_count": 12,
   "metadata": {},
   "outputs": [],
   "source": [
    "from peewee import *\n",
    "\n",
    "db = SqliteDatabase('ficbook-net.db')\n",
    "\n",
    "class BaseModel(Model):\n",
    "    class Meta:\n",
    "        database = db\n",
    "        \n",
    "class Tags(BaseModel):\n",
    "    id = IntegerField(primary_key=True)\n",
    "    url = TextField()\n",
    "    name = TextField()\n",
    "    description = TextField()\n",
    "    synonyms = TextField(null=True)\n",
    "\n",
    "class Fandoms(BaseModel):\n",
    "    fandomURL = TextField(unique=True)\n",
    "    fandomName = TextField()\n",
    "\n",
    "class Authors(BaseModel):\n",
    "    id = IntegerField(unique=True, primary_key=True)\n",
    "    authorName = TextField()\n",
    "    authorURL = TextField()\n",
    "\n",
    "class Rating(BaseModel):\n",
    "    ratingText = TextField()\n",
    "    ratingDescription = TextField()\n",
    "\n",
    "class Pairing(BaseModel):\n",
    "    pairingURL = TextField()\n",
    "    pairingName = TextField(unique=True)\n",
    "    \n",
    "class Size(BaseModel):\n",
    "    sizeName = TextField(unique=True)\n",
    "    sizeDescription = TextField()\n",
    "\n",
    "class Direction(BaseModel):\n",
    "    directionName = TextField(unique = True)\n",
    "    directionDescription = TextField()\n",
    "\n",
    "\n",
    "class FanficDescription(BaseModel):\n",
    "    id = IntegerField(primary_key = True)\n",
    "    fanficURL = TextField()\n",
    "    authorID = ForeignKeyField(Authors, backref = 'authorID')\n",
    "    fanficName = TextField()\n",
    "    directionID = ForeignKeyField(Direction, backref = 'directionID')\n",
    "    likes = IntegerField()\n",
    "    pages = IntegerField()\n",
    "    parts = IntegerField()\n",
    "    rewards = IntegerField()\n",
    "    pairingID = ForeignKeyField(Pairing, backref = 'pairingID', null=True)\n",
    "    ratingID = ForeignKeyField(Rating, backref = 'ratingID')\n",
    "    sizeID = ForeignKeyField(Size, backref = 'sizeID')\n",
    "    shortDescription = TextField()\n",
    "    \n",
    "    \n",
    "    \n",
    "class TagsFanfic(BaseModel):\n",
    "    fanficID = ForeignKeyField(FanficDescription, backref='fanficID')\n",
    "    tagID = ForeignKeyField(Tags, backref='tagID')\n",
    "        \n",
    "db.connect()\n",
    "db.create_tables([Tags, Fandoms,Authors,Rating,Pairing,Size,FanficDescription,Direction,TagsFanfic])\n"
   ]
  },
  {
   "cell_type": "code",
   "execution_count": 13,
   "metadata": {},
   "outputs": [],
   "source": [
    "MAIN_TOPIC_FIELD = 'main-topic'\n",
    "TITLE_FIELD = 'title'\n",
    "FANFIC_LINK_FIELD = 'fanfic-link'\n",
    "FANFIC_ID_FIELD = 'fanfic-id'\n",
    "AUTHORS_FIELD = 'authors'\n",
    "LIKES_COUNT_FIELD = 'likes-count'\n",
    "REWARD_COUNT_FIELD = 'rewards-count'\n",
    "STATUS_FIELD = 'status'\n",
    "PAIRING_FIELD = 'pairing'\n",
    "TAGS_FIELD = 'tags'\n",
    "DESCRIPTION_FIELD = 'description'\n",
    "FANDOM_FIELD = 'fandom'\n",
    "RATING_FIELD = 'age_rating'\n",
    "# size\n",
    "FANFIC_SIZE_FIELD = 'fanfic-size-short'       # (size_category, size_description)\n",
    "FANFIC_SIZE_FULL_FIELD = 'fanfic-size-full'   # (size_category, count_of_pages, count_of_parts)\n",
    "\n",
    "def insert_fanfic_description(fanfic_description_element):\n",
    "    if len(fanfic_description_element[AUTHORS_FIELD]) > 1:\n",
    "        print('Count of author more than one!')\n",
    "    fanfic_id = fanfic_description_element[FANFIC_ID_FIELD]\n",
    "    print('Current fanfic ID: {}'.format(fanfic_id))\n",
    "\n",
    "    # Authors processing\n",
    "    for (author_id, author_name, author_url) in fanfic_description_element[AUTHORS_FIELD]:\n",
    "        authorID, was_created = Authors.get_or_create(\n",
    "            id = int(author_id), \n",
    "            authorName = author_name, \n",
    "            authorURL = author_url)\n",
    "        print('External id = {}, Internal (db) = {}'.format(author_id, authorID))\n",
    "        \n",
    "    # Tags\n",
    "    for (tag_id, tag_name, tag_description, tag_url) in fanfic_description_element[TAGS_FIELD]:\n",
    "        tagID, was_created = Tags.get_or_create(\n",
    "            id = tag_id, url = tag_url, name = tag_name, description = tag_description)\n",
    "        TagsFanfic.create(fanficID = fanfic_id, tagID = tagID)\n",
    "    # Directions\n",
    "    direction_id, _ = Direction.get_or_create(directionName = fanfic_description_element[MAIN_TOPIC_FIELD][0], \n",
    "                                           directionDescription =  fanfic_description_element[MAIN_TOPIC_FIELD][1])\n",
    "    # Fandom\n",
    "    fandomID, _ = Fandoms.get_or_create(\n",
    "                            fandomURL = fanfic_description_element[FANDOM_FIELD][1], \n",
    "                            fandomName =  fanfic_description_element[FANDOM_FIELD][0])\n",
    "    # Rating\n",
    "    ratingID, _ = Rating.get_or_create(\n",
    "                            ratingText = fanfic_description_element[RATING_FIELD][0], \n",
    "                            ratingDescription = fanfic_description_element[RATING_FIELD][1])\n",
    "    \n",
    "    # Size\n",
    "    sizeID, _ = Size.get_or_create(\n",
    "                            sizeName = fanfic_description_element[FANFIC_SIZE_FIELD][0], \n",
    "                            sizeDescription =  fanfic_description_element[FANFIC_SIZE_FIELD][1])\n",
    "    # Pairing\n",
    "    if PAIRING_FIELD in fanfic_description_element:\n",
    "        PairingID, _ = Pairing.get_or_create(pairingURL=fanfic_description_element[PAIRING_FIELD][1],\n",
    "                                             pairingName = fanfic_description_element[PAIRING_FIELD][0])\n",
    "    else:\n",
    "        PairingID = None\n",
    "    \n",
    "    fanficID, was_create = FanficDescription.get_or_create(\n",
    "        id = fanfic_id,\n",
    "        fanficURL = fanfic_description_element[FANFIC_LINK_FIELD],\n",
    "        authorID = authorID,\n",
    "        fanficName = fanfic_description_element[TITLE_FIELD],\n",
    "        directionID = direction_id,\n",
    "        likes = fanfic_description_element[LIKES_COUNT_FIELD],\n",
    "        rewards = fanfic_description_element[REWARD_COUNT_FIELD],\n",
    "        pairingID = PairingID,\n",
    "        ratingID = ratingID,\n",
    "        sizeID = sizeID,\n",
    "        pages = fanfic_description_element[FANFIC_SIZE_FULL_FIELD][2],\n",
    "        parts =  fanfic_description_element[FANFIC_SIZE_FULL_FIELD][3],\n",
    "        shortDescription = fanfic_description_element[DESCRIPTION_FIELD],\n",
    "        \n",
    "    )"
   ]
  },
  {
   "cell_type": "code",
   "execution_count": 14,
   "metadata": {},
   "outputs": [],
   "source": [
    "def process_one_fanfic_description(fanfic_description_element : WebElement):\n",
    "    one_row = {}\n",
    "    u = fanfic_description_element.find_element_by_tag_name('h3')\n",
    "    main_topic = u.find_element_by_tag_name('span').get_attribute('title')\n",
    "    main_topic = main_topic.strip()\n",
    "    one_row[MAIN_TOPIC_FIELD] = (main_topic.split('—')[0].strip(), main_topic)\n",
    "\n",
    "    visit_element = fanfic_description_element.find_element_by_class_name('visit-link')\n",
    "    title_of_fanfic = visit_element.text\n",
    "    link_of_fanfic = visit_element.get_attribute('href')\n",
    "    one_row[TITLE_FIELD] = title_of_fanfic\n",
    "    one_row[FANFIC_LINK_FIELD] = link_of_fanfic\n",
    "    one_row[FANFIC_ID_FIELD] = int(link_of_fanfic.split('/')[-1].split('?')[0])\n",
    "\n",
    "    # Авторов может быть много\n",
    "    authors = fanfic_description_element.find_element_by_class_name('author').find_elements_by_tag_name('a')\n",
    "    one_row[AUTHORS_FIELD] = []\n",
    "    for one_author in authors:\n",
    "        one_row[AUTHORS_FIELD].append(\n",
    "            (int(one_author.get_attribute('href').split('/')[-1]), \n",
    "             one_author.text,\n",
    "             one_author.get_attribute('href'))\n",
    "        )\n",
    "\n",
    "    try:\n",
    "        count_of_likes = fanfic_description_element.find_element_by_xpath('.//*/sup[@class=\"count\"]/span[@class=\"value\"]').text\n",
    "        one_row[LIKES_COUNT_FIELD] = int(count_of_likes)\n",
    "    except NoSuchElementException:\n",
    "        one_row[LIKES_COUNT_FIELD] = 0\n",
    "    try:\n",
    "        # Potential error (element couldn't appear sometimes)\n",
    "        count_of_rewards = fanfic_description_element.find_element_by_xpath('.//*/sup[@class=\"reward\"]').text\n",
    "        one_row[REWARD_COUNT_FIELD] = int(count_of_rewards)\n",
    "    except NoSuchElementException:\n",
    "        one_row[REWARD_COUNT_FIELD] = 0\n",
    "\n",
    "    ### Additional information\n",
    "    current_info_section = fanfic_description_element.find_element_by_class_name('info')\n",
    "\n",
    "    for title, value in zip(current_info_section.find_elements_by_tag_name('dt'),\n",
    "                            current_info_section.find_elements_by_tag_name('dd')[:-1]):\n",
    "        if (title.text[:-1] == 'Фэндом'):\n",
    "            try:\n",
    "                one_row[FANDOM_FIELD] = (value.text, value.find_element_by_tag_name('a').get_attribute('href'))\n",
    "            except NoSuchElementException:\n",
    "                one_row[FANDOM_FIELD] = (value.text, '')\n",
    "        elif (title.text[:-1] == 'Пэйринг и персонажи'):\n",
    "            one_row[PAIRING_FIELD] = (value.text,\n",
    "                                  value.find_element_by_tag_name('a').get_attribute('href'))\n",
    "        elif (title.text[:-1] == 'Рейтинг'):\n",
    "            one_row[RATING_FIELD] = (value.text,\n",
    "                                     value.find_element_by_tag_name('strong').get_attribute('data-original-title').split('—')[1].strip().capitalize())\n",
    "        elif (title.text[:-1] == 'Размер'):\n",
    "            size_description = value.find_element_by_tag_name('strong').get_attribute('data-original-title').split('—')[1].strip().capitalize()\n",
    "            category, count_of_pages, count_of_parts = value.text.split(',')\n",
    "            one_row[FANFIC_SIZE_FIELD] = (\n",
    "                category,\n",
    "                size_description)\n",
    "            one_row[FANFIC_SIZE_FULL_FIELD] = (\n",
    "                category,\n",
    "                size_description,\n",
    "                count_of_pages.strip().split()[0], \n",
    "                count_of_parts.strip().split()[0]\n",
    "                )\n",
    "\n",
    "        elif (title.text[:-1] == 'Статус'):\n",
    "            one_row[STATUS_FIELD] = value.text\n",
    "\n",
    "    one_row[TAGS_FIELD] = []\n",
    "    try:\n",
    "        tags_element = fanfic_description_element.find_element_by_class_name('tags')\n",
    "        spoilers = tags_element.find_elements_by_class_name('show-hidden-tags-btn.js-show-hidden-tags.tag.icon-warning2')\n",
    "        if spoilers:\n",
    "            spoilers[0].click()\n",
    "        tags_element = fanfic_description_element.find_element_by_class_name('tags')\n",
    "        for one_tag in tags_element.find_elements_by_class_name('tag\\n'):\n",
    "            one_row[TAGS_FIELD].append(\n",
    "                (int(one_tag.get_attribute('href').split('/')[-1]),\n",
    "                 one_tag.text,\n",
    "                 one_tag.get_attribute('data-original-title').split('—')[1].strip(),\n",
    "                 one_tag.get_attribute('href'))\n",
    "            )\n",
    "    except NoSuchElementException:\n",
    "        one_row[TAGS_FIELD] = []\n",
    "\n",
    "    #one_row['description'] = fanfic_description_element.find_element_by_xpath('//div[@class=\"fanfic-description\"]/div[@class=\"wrap.word-break.urlize.fanfic-description-text\"]').text\n",
    "    u = fanfic_description_element.find_element_by_class_name(\"fanfic-description\")\n",
    "    description = u.find_element_by_class_name(\"wrap.word-break.urlize.fanfic-description-text\").text\n",
    "    one_row[DESCRIPTION_FIELD] = description\n",
    "    return one_row\n"
   ]
  },
  {
   "cell_type": "code",
   "execution_count": 15,
   "metadata": {},
   "outputs": [],
   "source": [
    "def process_one_search_page(current_link):\n",
    "    driver.get(current_link)\n",
    "    # Выделяем секцию фанфиков на текущей странице\n",
    "    fanfic_sections = driver.find_elements_by_class_name('fanfic-thumb-block')\n",
    "    print('Count of fanfics on this page: {}'.format(len(fanfic_sections)))\n",
    "    return fanfic_sections\n",
    "\n",
    "def process_one_date(current_link):\n",
    "    current_search_page = current_link\n",
    "    indexator = 1\n",
    "    \n",
    "    list_of_fanfic_descriptions = []\n",
    "    \n",
    "    while(current_search_page):\n",
    "        fanfic_sections = process_one_search_page(current_search_page)\n",
    "        for one_fanfic_section in fanfic_sections:\n",
    "            current_row = process_one_fanfic_description(one_fanfic_section)\n",
    "            list_of_fanfic_descriptions.append(current_row)\n",
    "        try:\n",
    "            current_search_page = driver.find_element_by_xpath('//*[@id=\"main\"]/div[1]/section/nav[2]/div[3]/a').get_attribute('href')\n",
    "            print('Page finished. Go to: {}'.format(current_search_page))\n",
    "            indexator += 1\n",
    "        except NoSuchElementException:\n",
    "            current_search_page = ''\n",
    "            print('Search finished. It takes {} iterations'.format(indexator))\n",
    "            break\n",
    "    for one_fanfic_description in tqdm_notebook(list_of_fanfic_descriptions):\n",
    "        insert_fanfic_description(one_fanfic_description)\n",
    "    print('Insertion process completed')\n"
   ]
  },
  {
   "cell_type": "code",
   "execution_count": 17,
   "metadata": {},
   "outputs": [
    {
     "name": "stdout",
     "output_type": "stream",
     "text": [
      "Count of fanfics on this page: 0\n",
      "Search finished. It takes 1 iterations\n"
     ]
    },
    {
     "name": "stderr",
     "output_type": "stream",
     "text": [
      "/Users/oleg/opt/anaconda3/lib/python3.7/site-packages/ipykernel_launcher.py:27: TqdmDeprecationWarning: This function will be removed in tqdm==5.0.0\n",
      "Please use `tqdm.notebook.tqdm` instead of `tqdm.tqdm_notebook`\n"
     ]
    },
    {
     "data": {
      "application/vnd.jupyter.widget-view+json": {
       "model_id": "475fbeea1a0e43a3ac8dc71c6254e660",
       "version_major": 2,
       "version_minor": 0
      },
      "text/plain": [
       "HBox(children=(FloatProgress(value=1.0, bar_style='info', max=1.0), HTML(value='')))"
      ]
     },
     "metadata": {},
     "output_type": "display_data"
    },
    {
     "name": "stdout",
     "output_type": "stream",
     "text": [
      "\n",
      "Insertion process completed\n"
     ]
    }
   ],
   "source": [
    "process_one_date(TARGET_SEARCH_LINK)"
   ]
  },
  {
   "cell_type": "code",
   "execution_count": 16,
   "metadata": {},
   "outputs": [
    {
     "data": {
      "text/plain": [
       "'https://ficbook.net/find?title=&fandom_filter=any&fandom_group_id=1&sizes%5B%5D=3&sizes%5B%5D=4&pages_min=&pages_max=&ratings%5B%5D=5&ratings%5B%5D=6&ratings%5B%5D=7&ratings%5B%5D=8&ratings%5B%5D=9&transl=1&statuses%5B%5D=2&directions%5B%5D=1&directions%5B%5D=2&directions%5B%5D=3&directions%5B%5D=4&directions%5B%5D=7&directions%5B%5D=6&directions%5B%5D=5&author=0&likes_min=&likes_max=&dateFilter=1&date_create_min=2020-1-2&date_create_max=2020-1-3&date_update_min=2019-12-27&date_update_max=2019-12-27&sort=3&rnd=777383900&find=%D0%9D%D0%B0%D0%B9%D1%82%D0%B8%21#result'"
      ]
     },
     "execution_count": 16,
     "metadata": {},
     "output_type": "execute_result"
    }
   ],
   "source": [
    "TARGET_SEARCH_LINK"
   ]
  },
  {
   "cell_type": "code",
   "execution_count": null,
   "metadata": {},
   "outputs": [],
   "source": [
    "fanfic_description_element = fanfic_sections[0]"
   ]
  },
  {
   "cell_type": "code",
   "execution_count": null,
   "metadata": {},
   "outputs": [],
   "source": []
  },
  {
   "cell_type": "code",
   "execution_count": null,
   "metadata": {},
   "outputs": [],
   "source": [
    "fanfic_sections = process_search_page(TARGET_SEARCH_LINK)\n",
    "for fanfic_description_element in fanfic_sections:\n",
    "    dict_fanfic_descriptor = process_one_fanfic_description(fanfic_description_element)\n",
    "    #print(dict_fanfic_descriptor)\n",
    "    insert_fanfic_description(dict_fanfic_descriptor)"
   ]
  },
  {
   "cell_type": "code",
   "execution_count": null,
   "metadata": {},
   "outputs": [],
   "source": [
    "dict_fanfic_descriptor = process_one_fanfic_description(fanfic_description_element)\n",
    "insert_fanfic_description(dict_fanfic_descriptor)\n",
    "dict_fanfic_descriptor"
   ]
  },
  {
   "cell_type": "code",
   "execution_count": null,
   "metadata": {},
   "outputs": [],
   "source": []
  },
  {
   "cell_type": "code",
   "execution_count": null,
   "metadata": {},
   "outputs": [],
   "source": []
  }
 ],
 "metadata": {
  "kernelspec": {
   "display_name": "Python 3",
   "language": "python",
   "name": "python3"
  },
  "language_info": {
   "codemirror_mode": {
    "name": "ipython",
    "version": 3
   },
   "file_extension": ".py",
   "mimetype": "text/x-python",
   "name": "python",
   "nbconvert_exporter": "python",
   "pygments_lexer": "ipython3",
   "version": "3.7.6"
  }
 },
 "nbformat": 4,
 "nbformat_minor": 4
}

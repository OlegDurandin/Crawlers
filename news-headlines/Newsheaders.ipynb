{
 "cells": [
  {
   "cell_type": "code",
   "execution_count": 131,
   "metadata": {},
   "outputs": [],
   "source": [
    "from selenium import webdriver\n",
    "from selenium.common.exceptions import NoSuchElementException\n",
    "from selenium.webdriver.remote.webelement import WebElement\n",
    "\n",
    "from datetime import timedelta, date\n",
    "import os\n",
    "import logging\n",
    "logging.basicConfig(format='%(levelname)s:%(message)s', level=logging.INFO)\n",
    "\n",
    "def selenium_initializer():\n",
    "    options = webdriver.ChromeOptions()\n",
    "    options.add_argument('--ignore-certificate-errors')\n",
    "    options.add_argument('--ignore-ssl-errors')\n",
    "    driver = webdriver.Chrome('../chromedriver', chrome_options=options)\n",
    "    return driver\n",
    "\n",
    "\n",
    "from datetime import datetime\n",
    "from datetime import timedelta, date\n",
    "\n",
    "from datetime import datetime\n",
    "from datetime import timedelta, date\n",
    "def daterange(start_date, end_date):\n",
    "    for n in range(int ((end_date - start_date).days)):\n",
    "        yield start_date + timedelta(n)"
   ]
  },
  {
   "cell_type": "code",
   "execution_count": 132,
   "metadata": {},
   "outputs": [
    {
     "name": "stderr",
     "output_type": "stream",
     "text": [
      "/Users/oleg/opt/anaconda3/lib/python3.7/site-packages/ipykernel_launcher.py:14: DeprecationWarning: use options instead of chrome_options\n",
      "  \n"
     ]
    }
   ],
   "source": [
    "driver = selenium_initializer()"
   ]
  },
  {
   "cell_type": "code",
   "execution_count": 61,
   "metadata": {},
   "outputs": [
    {
     "name": "stdout",
     "output_type": "stream",
     "text": [
      "Collecting tinydb\n",
      "  Downloading tinydb-4.3.0-py3-none-any.whl (21 kB)\n",
      "Installing collected packages: tinydb\n",
      "Successfully installed tinydb-4.3.0\n"
     ]
    }
   ],
   "source": [
    "!pip install tinydb"
   ]
  },
  {
   "cell_type": "markdown",
   "metadata": {},
   "source": [
    "# Lenta.ru\n"
   ]
  },
  {
   "cell_type": "code",
   "execution_count": 3,
   "metadata": {},
   "outputs": [],
   "source": [
    "START_NEWS_DATE = 'https://lenta.ru/1999/08/31/'"
   ]
  },
  {
   "cell_type": "code",
   "execution_count": 4,
   "metadata": {},
   "outputs": [],
   "source": [
    "driver.get(START_NEWS_DATE)"
   ]
  },
  {
   "cell_type": "code",
   "execution_count": 3,
   "metadata": {},
   "outputs": [],
   "source": [
    "def extract_properties(one_news_block):\n",
    "    time_and_date = one_news_block.find_element_by_class_name('g-date.item__date').text\n",
    "    time_of_news, date_of_news = time_and_date.split(' — ')\n",
    "    \n",
    "    url_news = one_news_block.find_element_by_class_name('titles').find_element_by_tag_name('a').get_attribute('href')\n",
    "    header_of_news = one_news_block.find_element_by_class_name('titles').find_element_by_tag_name('a').text\n",
    "    \n",
    "    return {\n",
    "        'time' : time_of_news,\n",
    "        'date' : date_of_news,\n",
    "        'url' : url_news,\n",
    "        'header' : header_of_news \n",
    "    }\n",
    "    "
   ]
  },
  {
   "cell_type": "code",
   "execution_count": 4,
   "metadata": {},
   "outputs": [
    {
     "name": "stdout",
     "output_type": "stream",
     "text": [
      "1999/08/31 -- https://lenta.ru/1999/08/31\n",
      "\t{'time': '22:53', 'date': '31 августа 1999', 'url': 'https://lenta.ru/russia/1999/08/31/tamozhnya/', 'header': 'C 1 сентября вводится новая форма таможенной декларации'}\n",
      "\t{'time': '22:53', 'date': '31 августа 1999', 'url': 'https://lenta.ru/news/1999/08/31/timor/', 'header': 'Референдум по вопросу о самоопределении Восточного Тимора прошел успешно'}\n",
      "\t{'time': '22:53', 'date': '31 августа 1999', 'url': 'https://lenta.ru/news/1999/08/31/limonov/', 'header': 'Российские национал-большевики убирают территорию Севастополя'}\n",
      "\t{'time': '22:53', 'date': '31 августа 1999', 'url': 'https://lenta.ru/news/1999/08/31/karachaevo/', 'header': 'Карачаево-Черкесия раскололась по национальному признаку'}\n",
      "\t{'time': '22:53', 'date': '31 августа 1999', 'url': 'https://lenta.ru/news/1999/08/31/kirgizia/', 'header': 'Киргизия ведет бои на границах с Таджикистаном и Узбекистаном'}\n",
      "\t{'time': '22:53', 'date': '31 августа 1999', 'url': 'https://lenta.ru/news/1999/08/31/litva/', 'header': 'Литва засудила участников переворота 91 года'}\n",
      "\t{'time': '22:53', 'date': '31 августа 1999', 'url': 'https://lenta.ru/news/1999/08/31/cholera/', 'header': 'Южно-Сахалинск объявлен очагом холеры'}\n",
      "\t{'time': '22:53', 'date': '31 августа 1999', 'url': 'https://lenta.ru/news/1999/08/31/korzhakov/', 'header': 'Коржаков готов рассказать Генпрокуратуре про финансовое состояние Ельцина'}\n",
      "\t{'time': '22:53', 'date': '31 августа 1999', 'url': 'https://lenta.ru/news/1999/08/31/turkey_quake/', 'header': 'Еще одно землетрясение в Турции: один человек погиб, около 70 ранены'}\n",
      "\t{'time': '22:53', 'date': '31 августа 1999', 'url': 'https://lenta.ru/news/1999/08/31/dagestan/', 'header': 'В горах Дагестана идут активные боевые действия'}\n",
      "\t{'time': '22:53', 'date': '31 августа 1999', 'url': 'https://lenta.ru/news/1999/08/31/polit_blok/', 'header': 'Леворадикалы создают предвыборный блок'}\n",
      "1999/09/01 -- https://lenta.ru/1999/09/01\n",
      "\t{'time': '01:58', 'date': '1 сентября 1999', 'url': 'https://lenta.ru/news/1999/08/31/stancia_mir/', 'header': 'Космонавты сомневаются в надежности \"Мира\"'}\n",
      "\t{'time': '09:18', 'date': '1 сентября 1999', 'url': 'https://lenta.ru/news/1999/08/31/fsb/', 'header': 'Создан департамент ФСБ по борьбе с терроризмом'}\n",
      "\t{'time': '17:30', 'date': '1 сентября 1999', 'url': 'https://lenta.ru/news/1999/08/31/diana/', 'header': 'Британцы отмечают двухлетие смерти Дианы'}\n",
      "\t{'time': '19:08', 'date': '1 сентября 1999', 'url': 'https://lenta.ru/news/1999/09/01/kosovo/', 'header': 'Американские миротворцы скрывали факт массового убийства'}\n",
      "\t{'time': '19:50', 'date': '1 сентября 1999', 'url': 'https://lenta.ru/news/1999/09/01/credity/', 'header': 'США хотят сделать паузу в кредитовании России'}\n",
      "\t{'time': '20:43', 'date': '1 сентября 1999', 'url': 'https://lenta.ru/news/1999/09/01/abkhaziya/', 'header': 'Убит абхазский таможенник'}\n",
      "\t{'time': '22:24', 'date': '1 сентября 1999', 'url': 'https://lenta.ru/news/1999/09/01/skuratov/', 'header': '\"Окружение президента не желает объективного расследования скандала вокруг Bank of New York\"'}\n",
      "\t{'time': '08:39', 'date': '1 сентября 1999', 'url': 'https://lenta.ru/news/1999/08/31/vzriv/', 'header': 'Взрыв в центре Москвы: пострадало 30 человек'}\n",
      "\t{'time': '16:36', 'date': '1 сентября 1999', 'url': 'https://lenta.ru/news/1999/09/01/dagestan/', 'header': 'Федеральные силы в Дагестане замкнули кольцо окружения'}\n",
      "\t{'time': '18:47', 'date': '1 сентября 1999', 'url': 'https://lenta.ru/news/1999/09/01/dollar/', 'header': 'На ММВБ произошел резкий скачок курса доллара'}\n",
      "\t{'time': '19:11', 'date': '1 сентября 1999', 'url': 'https://lenta.ru/news/1999/09/01/valuta/', 'header': 'На ММВБ перестанут торговать немецкими марками'}\n",
      "\t{'time': '20:38', 'date': '1 сентября 1999', 'url': 'https://lenta.ru/news/1999/09/01/vybory/', 'header': 'Минюст готовится к борьбе с политическими экстремистами'}\n",
      "\t{'time': '20:52', 'date': '1 сентября 1999', 'url': 'https://lenta.ru/news/1999/09/01/apple/', 'header': 'Компания Apple выпустила \"настольный суперкомпьютер\" Power Mac G4'}\n",
      "\t{'time': '23:49', 'date': '1 сентября 1999', 'url': 'https://lenta.ru/news/1999/09/01/china/', 'header': 'США заплатили Китаю 4,5 миллиона долларов за \"ошибочную бомбардировку\"'}\n",
      "\t{'time': '09:16', 'date': '1 сентября 1999', 'url': 'https://lenta.ru/news/1999/08/31/credit_japs/', 'header': 'Япония кредитует Россию на полтора миллиарда долларов'}\n",
      "\t{'time': '17:30', 'date': '1 сентября 1999', 'url': 'https://lenta.ru/news/1999/09/01/kirgiz1/', 'header': 'В Киргизии освобождены трое заложников'}\n",
      "\t{'time': '19:05', 'date': '1 сентября 1999', 'url': 'https://lenta.ru/news/1999/08/31/mvf/', 'header': 'Отмытые через Bank of NY деньги не имели отношения к МВФ'}\n",
      "\t{'time': '19:41', 'date': '1 сентября 1999', 'url': 'https://lenta.ru/news/1999/09/01/shadow_army/', 'header': 'Швейцарец создал подпольную армию'}\n",
      "\t{'time': '19:47', 'date': '1 сентября 1999', 'url': 'https://lenta.ru/news/1999/09/01/argentina/', 'header': 'В центре Буэнос-Айреса разбился самолет со 130 пассажирами на борту'}\n",
      "\t{'time': '21:27', 'date': '1 сентября 1999', 'url': 'https://lenta.ru/news/1999/09/01/vzryv/', 'header': 'Взрыв на Манежной: новые версии'}\n",
      "\t{'time': '23:19', 'date': '1 сентября 1999', 'url': 'https://lenta.ru/news/1999/09/01/timor/', 'header': 'Восточный Тимор после референдума: анархия и стрельба'}\n",
      "1999/09/02 -- https://lenta.ru/1999/09/02\n",
      "\t{'time': '01:13', 'date': '2 сентября 1999', 'url': 'https://lenta.ru/news/1999/09/01/y2000/', 'header': 'ФБР готовится к кибер-войне и терактам в канун 2000 года'}\n",
      "\t{'time': '16:43', 'date': '2 сентября 1999', 'url': 'https://lenta.ru/news/1999/09/01/bloki/', 'header': 'Илюхин и Исаков отвернулись от коммунистов'}\n",
      "\t{'time': '18:39', 'date': '2 сентября 1999', 'url': 'https://lenta.ru/news/1999/09/02/chechnya/', 'header': 'В Чечне отключили ОРТ и РТР'}\n",
      "\t{'time': '19:09', 'date': '2 сентября 1999', 'url': 'https://lenta.ru/news/1999/09/02/crash/', 'header': 'Авиакатастрофа в Танзании: выживших нет'}\n",
      "\t{'time': '20:41', 'date': '2 сентября 1999', 'url': 'https://lenta.ru/news/1999/09/02/kurds/', 'header': 'Курдская рабочая партия складывает оружие'}\n",
      "\t{'time': '23:46', 'date': '2 сентября 1999', 'url': 'https://lenta.ru/news/1999/09/02/kolokola/', 'header': 'Колокола, похищенные из Свято-Троицкого собора в Сан-Франциско, возвращены'}\n",
      "\t{'time': '01:31', 'date': '2 сентября 1999', 'url': 'https://lenta.ru/news/1999/09/01/mabetex/', 'header': 'Паколли: Дель Понти предлагала мне взятку'}\n",
      "\t{'time': '16:44', 'date': '2 сентября 1999', 'url': 'https://lenta.ru/news/1999/09/02/vokzal/', 'header': 'На Павелецком вокзале обнаружен предмет, напоминающий взрывное устройcтво'}\n",
      "\t{'time': '18:45', 'date': '2 сентября 1999', 'url': 'https://lenta.ru/news/1999/09/02/credity/', 'header': 'CША не будут блокировать выделение России кредита МВФ'}\n",
      "\t{'time': '20:32', 'date': '2 сентября 1999', 'url': 'https://lenta.ru/news/1999/09/02/television/', 'header': 'Минпечати запретило вещание компании \"Петербург\"'}\n",
      "\t{'time': '22:33', 'date': '2 сентября 1999', 'url': 'https://lenta.ru/news/1999/09/02/stanziya_mir/', 'header': 'Ценные приборы с \"Мира\" отправят на Землю'}\n",
      "\t{'time': '23:58', 'date': '2 сентября 1999', 'url': 'https://lenta.ru/news/1999/09/02/waco/', 'header': 'ФБР виновно в гибели более 80 сектантов в Уэйко'}\n",
      "\t{'time': '16:42', 'date': '2 сентября 1999', 'url': 'https://lenta.ru/news/1999/09/02/dagestan/', 'header': 'Боевики вытеснены из дагестанского села Карамахи'}\n",
      "\t{'time': '18:01', 'date': '2 сентября 1999', 'url': 'https://lenta.ru/news/1999/09/02/dollar/', 'header': 'Курс доллара вырос на 65 копеек'}\n",
      "\t{'time': '18:11', 'date': '2 сентября 1999', 'url': 'https://lenta.ru/news/1999/09/02/vzryv/', 'header': 'Ущерб от взрыва на Манежной оценивается в 500 000 долларов'}\n",
      "\t{'time': '19:49', 'date': '2 сентября 1999', 'url': 'https://lenta.ru/news/1999/09/02/korea/', 'header': 'КНДР переносит свою морскую границу ближе к берегам Южной Кореи'}\n",
      "\t{'time': '22:31', 'date': '2 сентября 1999', 'url': 'https://lenta.ru/news/1999/09/02/kirgiziya/', 'header': 'В Баткенском районе Киргизии введен комендантский час'}\n",
      "\t{'time': '23:54', 'date': '2 сентября 1999', 'url': 'https://lenta.ru/news/1999/09/02/bomba/', 'header': 'Возле еврейской школы в Москве найдена мина'}\n",
      "1999/09/03 -- https://lenta.ru/1999/09/03\n",
      "\t{'time': '00:12', 'date': '3 сентября 1999', 'url': 'https://lenta.ru/news/1999/09/02/telefon/', 'header': 'В Москве повышаются цены на телефон'}\n",
      "\t{'time': '17:22', 'date': '3 сентября 1999', 'url': 'https://lenta.ru/news/1999/09/03/zabastovka/', 'header': 'В Алтае больше половины школ закрыты на забастовку'}\n",
      "\t{'time': '18:55', 'date': '3 сентября 1999', 'url': 'https://lenta.ru/news/1999/09/03/cholera/', 'header': 'В Южно-Сахалинске выявлено 8 больных холерой'}\n",
      "\t{'time': '20:14', 'date': '3 сентября 1999', 'url': 'https://lenta.ru/news/1999/09/03/timor/', 'header': 'В Восточном Тиморе убивают сотрудников ООН'}\n",
      "\t{'time': '21:54', 'date': '3 сентября 1999', 'url': 'https://lenta.ru/news/1999/09/03/dagestan/', 'header': 'Полностью вытеснить боевиков из Карамахи так и не удалось'}\n",
      "\t{'time': '22:07', 'date': '3 сентября 1999', 'url': 'https://lenta.ru/news/1999/09/03/yarvokzal/', 'header': 'Авария на Ярославском вокзале'}\n",
      "\t{'time': '22:21', 'date': '3 сентября 1999', 'url': 'https://lenta.ru/news/1999/09/03/razresh/', 'header': 'Запрет на вещание ТРК \"Петербург\" снят'}\n",
      "\t{'time': '22:46', 'date': '3 сентября 1999', 'url': 'https://lenta.ru/news/1999/09/03/angola/', 'header': 'Экипажи двух российских самолетов стали заложниками ангольских партизан'}\n",
      "\t{'time': '00:55', 'date': '3 сентября 1999', 'url': 'https://lenta.ru/news/1999/09/02/virus/', 'header': 'Глобальное таяние льдов высвободит древние вирусы'}\n",
      "\t{'time': '17:40', 'date': '3 сентября 1999', 'url': 'https://lenta.ru/news/1999/09/03/pirat/', 'header': 'В Гонконге разгромлен синдикат по производству поддельных компакт-дисков'}\n",
      "\t{'time': '19:33', 'date': '3 сентября 1999', 'url': 'https://lenta.ru/news/1999/09/03/putin/', 'header': 'Владимир Путин встретился с Эдуардом Росселем'}\n",
      "\t{'time': '21:01', 'date': '3 сентября 1999', 'url': 'https://lenta.ru/news/1999/09/03/kirgiziya/', 'header': 'Боевики согласны отпустить заложников, захваченных в Киргизии'}\n",
      "\t{'time': '22:01', 'date': '3 сентября 1999', 'url': 'https://lenta.ru/news/1999/09/03/corriere/', 'header': 'Деньги Кремля в Швейцарии: названы 24 подозреваемых'}\n",
      "\t{'time': '22:17', 'date': '3 сентября 1999', 'url': 'https://lenta.ru/news/1999/09/03/ort/', 'header': 'Бывший директор ОРТ назначен первым замом главы администрации президента'}\n",
      "\t{'time': '22:45', 'date': '3 сентября 1999', 'url': 'https://lenta.ru/news/1999/09/03/pis/', 'header': 'Брюссельский \"Писающий мальчик\" будет писать пивом!'}\n",
      "\t{'time': '17:18', 'date': '3 сентября 1999', 'url': 'https://lenta.ru/news/1999/09/03/zadornov/', 'header': 'Спецпредставитель президента РФ Михаил Задорнов уходит со своего поста'}\n",
      "\t{'time': '18:17', 'date': '3 сентября 1999', 'url': 'https://lenta.ru/news/1999/09/03/gas/', 'header': 'Цены на продукты первой необходимости вырастут вдвое'}\n",
      "\t{'time': '20:09', 'date': '3 сентября 1999', 'url': 'https://lenta.ru/news/1999/09/03/chickenfax/', 'header': 'Белый дом шлет секретные факсы новозеландским курицам'}\n",
      "\t{'time': '21:48', 'date': '3 сентября 1999', 'url': 'https://lenta.ru/news/1999/09/03/sevastopol/', 'header': 'В Севастополе отключают Черноморский флот'}\n",
      "\t{'time': '21:55', 'date': '3 сентября 1999', 'url': 'https://lenta.ru/news/1999/09/03/new_clon/', 'header': 'В Техасе из мертвого быка сделали живого теленка'}\n",
      "\t{'time': '22:08', 'date': '3 сентября 1999', 'url': 'https://lenta.ru/news/1999/09/03/kidnapping/', 'header': 'В Москве украли генерального директора'}\n",
      "\t{'time': '22:22', 'date': '3 сентября 1999', 'url': 'https://lenta.ru/news/1999/09/03/nato/', 'header': 'НАТО выдвигается на Нобелевскую премию мира'}\n",
      "\t{'time': '22:48', 'date': '3 сентября 1999', 'url': 'https://lenta.ru/news/1999/09/03/gostelecom/', 'header': 'Государство хочет контролировать Интернет'}\n",
      "1999/09/04 -- https://lenta.ru/1999/09/04\n",
      "\t{'time': '14:36', 'date': '4 сентября 1999', 'url': 'https://lenta.ru/news/1999/09/03/fsb_bank/', 'header': 'Ельцину рассказали про Bank of New York'}\n",
      "\t{'time': '23:57', 'date': '4 сентября 1999', 'url': 'https://lenta.ru/news/1999/09/03/tv/', 'header': 'Минпечати запретило вещание компании \"Петербург\"'}\n",
      "1999/09/05 -- https://lenta.ru/1999/09/05\n",
      "1999/09/06 -- https://lenta.ru/1999/09/06\n",
      "\t{'time': '06:20', 'date': '6 сентября 1999', 'url': 'https://lenta.ru/news/1999/09/01/bankofny/', 'header': 'В \"Bank of New York\" подчищали и уничтожали документы'}\n",
      "\t{'time': '16:40', 'date': '6 сентября 1999', 'url': 'https://lenta.ru/news/1999/09/06/cherk/', 'header': 'Сторонники Станислава Дерева не подчинились Дереву'}\n",
      "\t{'time': '18:49', 'date': '6 сентября 1999', 'url': 'https://lenta.ru/news/1999/09/06/krasnuha/', 'header': 'Эпидемия краснухи в Белгородской области'}\n",
      "\t{'time': '19:48', 'date': '6 сентября 1999', 'url': 'https://lenta.ru/news/1999/09/06/derzhava/', 'header': '\"Держава\" выходит из \"Отечества\"'}\n",
      "\t{'time': '20:34', 'date': '6 сентября 1999', 'url': 'https://lenta.ru/news/1999/09/06/gos_duma/', 'header': 'Спикер Госдумы Селезнев хочет отменить президента'}\n",
      "\t{'time': '21:03', 'date': '6 сентября 1999', 'url': 'https://lenta.ru/news/1999/09/06/dagestan/', 'header': 'Всеобщей мобилизации в Дагестане не будет'}\n",
      "\t{'time': '21:22', 'date': '6 сентября 1999', 'url': 'https://lenta.ru/news/1999/09/06/virus/', 'header': 'Новую смертоносную бактерию назвали \"Визой\"'}\n",
      "\t{'time': '23:41', 'date': '6 сентября 1999', 'url': 'https://lenta.ru/news/1999/09/06/kitai/', 'header': 'Оползень в Китае: более 200 человек погибли'}\n",
      "\t{'time': '11:47', 'date': '6 сентября 1999', 'url': 'https://lenta.ru/news/1999/09/06/israel/', 'header': 'Трое террористов погибли во время терактов в Хайфе и Тверии'}\n",
      "\t{'time': '16:55', 'date': '6 сентября 1999', 'url': 'https://lenta.ru/news/1999/09/06/kama/', 'header': 'В Каму вытекло 100 тонн мазута'}\n",
      "\t{'time': '18:47', 'date': '6 сентября 1999', 'url': 'https://lenta.ru/news/1999/09/06/chechnya/', 'header': 'Правительство Чечни считает, что Россия начала войну'}\n",
      "\t{'time': '19:08', 'date': '6 сентября 1999', 'url': 'https://lenta.ru/news/1999/09/06/nepal/', 'header': 'В Непале в авиакатастрофе погибли 15 человек'}\n",
      "\t{'time': '20:42', 'date': '6 сентября 1999', 'url': 'https://lenta.ru/news/1999/09/06/laden/', 'header': 'Чеченский полевой командир Хаттаб связан с Бин-Ладеном'}\n",
      "\t{'time': '21:03', 'date': '6 сентября 1999', 'url': 'https://lenta.ru/news/1999/09/06/timor/', 'header': '200 сотрудников ООН покидают Восточный Тимор'}\n",
      "\t{'time': '22:32', 'date': '6 сентября 1999', 'url': 'https://lenta.ru/news/1999/09/06/egipt/', 'header': 'На президента Египта совершено покушение'}\n",
      "\t{'time': '15:14', 'date': '6 сентября 1999', 'url': 'https://lenta.ru/news/1999/09/06/manezh/', 'header': 'В драке на Манежной площади пострадали шесть человек'}\n",
      "\t{'time': '17:42', 'date': '6 сентября 1999', 'url': 'https://lenta.ru/news/1999/09/06/imf/', 'header': '\"Mabetex\" подает в суд на \"Corrierre della Sera\"'}\n",
      "\t{'time': '19:01', 'date': '6 сентября 1999', 'url': 'https://lenta.ru/news/1999/09/06/zalozhniki/', 'header': 'Еще 11 заложников вернулись из чеченского плена'}\n",
      "\t{'time': '20:27', 'date': '6 сентября 1999', 'url': 'https://lenta.ru/news/1999/09/06/pentagon/', 'header': 'Пентагон отключается от Интернета, опасаясь российских хакеров'}\n",
      "\t{'time': '20:56', 'date': '6 сентября 1999', 'url': 'https://lenta.ru/news/1999/09/06/ramstore/', 'header': 'Бомбу в \"Рамсторе\" не нашли'}\n",
      "\t{'time': '21:10', 'date': '6 сентября 1999', 'url': 'https://lenta.ru/news/1999/09/06/cholera/', 'header': 'В Южно-Сахалинске заболели холерой 14 человек'}\n",
      "\t{'time': '22:43', 'date': '6 сентября 1999', 'url': 'https://lenta.ru/news/1999/09/06/serbs/', 'header': 'Российские миротворцы застрелили трех косовских сербов'}\n",
      "1999/09/07 -- https://lenta.ru/1999/09/07\n",
      "\t{'time': '08:21', 'date': '7 сентября 1999', 'url': 'https://lenta.ru/news/1999/09/06/elections/', 'header': 'В Омской и Новгородской областях остались прежние губернаторы'}\n",
      "\t{'time': '17:47', 'date': '7 сентября 1999', 'url': 'https://lenta.ru/news/1999/09/07/sputnik/', 'header': 'В космос снова запущен \"Протон\"'}\n",
      "\t{'time': '20:58', 'date': '7 сентября 1999', 'url': 'https://lenta.ru/news/1999/09/07/berezovsky/', 'header': 'Березовский отказался баллотироваться в Госдуму от Еврейской АО'}\n",
      "\t{'time': '23:41', 'date': '7 сентября 1999', 'url': 'https://lenta.ru/news/1999/09/07/putin/', 'header': 'Еще одно назначение Путина'}\n",
      "\t{'time': '08:57', 'date': '7 сентября 1999', 'url': 'https://lenta.ru/news/1999/09/06/tanker/', 'header': 'В бухту Ласпи с сухогруза \"Кристина\" вылилась тонна горючего'}\n",
      "\t{'time': '19:44', 'date': '7 сентября 1999', 'url': 'https://lenta.ru/news/1999/09/07/bloki/', 'header': 'Блок \"Отечество — Вся Россия\" представил в ЦИК свои списки'}\n",
      "\t{'time': '22:59', 'date': '7 сентября 1999', 'url': 'https://lenta.ru/news/1999/09/07/yavlinsky/', 'header': 'Явлинский связывает кремлевский скандал с коллективным прозрением Запада'}\n",
      "\t{'time': '17:09', 'date': '7 сентября 1999', 'url': 'https://lenta.ru/news/1999/09/07/chuma/', 'header': 'В Казахстане от чего-то похожего на бубонную чуму умерла девушка'}\n",
      "\t{'time': '19:16', 'date': '7 сентября 1999', 'url': 'https://lenta.ru/news/1999/09/07/mogilevich/', 'header': 'Могилевич выиграл дело в суде'}\n",
      "\t{'time': '20:59', 'date': '7 сентября 1999', 'url': 'https://lenta.ru/news/1999/09/07/chechnya/', 'header': 'По Чечне снова нанесены ракетно-бомбовые удары'}\n",
      "\t{'time': '23:20', 'date': '7 сентября 1999', 'url': 'https://lenta.ru/news/1999/09/07/norilsk/', 'header': 'В Норильске четыре рабочих погибли в результате взрыва'}\n",
      "1999/09/08 -- https://lenta.ru/1999/09/08\n",
      "\t{'time': '00:04', 'date': '8 сентября 1999', 'url': 'https://lenta.ru/news/1999/09/07/cherkes/', 'header': 'В Черкесске принят \"нулевой вариант\"'}\n",
      "\t{'time': '00:28', 'date': '8 сентября 1999', 'url': 'https://lenta.ru/news/1999/09/07/dagestan/', 'header': 'МВД обвиняет российские банки в помощи чеченским экстремистам'}\n",
      "\t{'time': '00:29', 'date': '8 сентября 1999', 'url': 'https://lenta.ru/news/1999/09/07/greece/', 'header': 'Землетрясение в Греции'}\n",
      "\t{'time': '01:02', 'date': '8 сентября 1999', 'url': 'https://lenta.ru/news/1999/09/07/india/', 'header': 'В Индии 300 человек стали жертвами наводнений'}\n",
      "\t{'time': '17:22', 'date': '8 сентября 1999', 'url': 'https://lenta.ru/news/1999/09/08/mayor/', 'header': 'Выборы мэра и вице-мэра Москвы назначены на 19 декабря'}\n",
      "\t{'time': '00:23', 'date': '8 сентября 1999', 'url': 'https://lenta.ru/news/1999/09/07/mabetex/', 'header': 'В деле о швейцарских счетах Ельцина всплыл первый труп'}\n",
      "\t{'time': '00:28', 'date': '8 сентября 1999', 'url': 'https://lenta.ru/news/1999/09/07/inkombank/', 'header': '\"Инкомбанк\" отстоял свою состоятельность'}\n",
      "\t{'time': '00:32', 'date': '8 сентября 1999', 'url': 'https://lenta.ru/news/1999/09/07/shuttle/', 'header': 'Программа \"Shuttle\" заморожена до ноября'}\n",
      "\t{'time': '01:39', 'date': '8 сентября 1999', 'url': 'https://lenta.ru/news/1999/09/07/ukraine_sorm/', 'header': 'СОРМ-2 на Украине объявлен вне закона'}\n",
      "\t{'time': '17:40', 'date': '8 сентября 1999', 'url': 'https://lenta.ru/news/1999/09/08/tokyo/', 'header': 'Японский безработный искромсал восьмерых человек'}\n",
      "\t{'time': '00:27', 'date': '8 сентября 1999', 'url': 'https://lenta.ru/news/1999/09/07/lebanon/', 'header': 'Переговоры в Израиля с Ливаном фактически провалились'}\n",
      "\t{'time': '00:29', 'date': '8 сентября 1999', 'url': 'https://lenta.ru/news/1999/09/07/timor/', 'header': 'Индонезия ввела военное положение в Восточном Тиморе'}\n",
      "\t{'time': '00:33', 'date': '8 сентября 1999', 'url': 'https://lenta.ru/news/1999/09/07/kosovo/', 'header': 'Армия освобождения Косово не будет расформирована'}\n",
      "\t{'time': '17:10', 'date': '8 сентября 1999', 'url': 'https://lenta.ru/news/1999/09/08/aeroflot/', 'header': 'Россия получит от Швейцарии материалы по делу \"Аэрофлота\"'}\n",
      "\t{'time': '18:56', 'date': '8 сентября 1999', 'url': 'https://lenta.ru/news/1999/09/08/fire/', 'header': 'Московские пожарные предотвратили катастрофу на заводе \"Нефтепродукт\"'}\n",
      "1999/09/09 -- https://lenta.ru/1999/09/09\n",
      "\t{'time': '00:21', 'date': '9 сентября 1999', 'url': 'https://lenta.ru/news/1999/09/08/razgon/', 'header': 'Умер Лев Разгон'}\n",
      "\t{'time': '00:31', 'date': '9 сентября 1999', 'url': 'https://lenta.ru/news/1999/09/08/luzhkov/', 'header': 'Москвичи не хотят видеть Лужкова президентом'}\n",
      "\t{'time': '01:03', 'date': '9 сентября 1999', 'url': 'https://lenta.ru/news/1999/09/08/kosovo/', 'header': 'В Косово гремят взрывы'}\n",
      "\t{'time': '01:27', 'date': '9 сентября 1999', 'url': 'https://lenta.ru/news/1999/09/08/viacom/', 'header': 'Создана первая медиа-империя XXI века'}\n",
      "\t{'time': '01:36', 'date': '9 сентября 1999', 'url': 'https://lenta.ru/news/1999/09/08/9sept/', 'header': '\"День четырех девяток\" — репетиция \"Ошибки-2000\"'}\n",
      "\t{'time': '15:43', 'date': '9 сентября 1999', 'url': 'https://lenta.ru/news/1999/09/08/ford/', 'header': 'Судебный процесс \"Ford против Интернета\" проиграл Ford'}\n",
      "\t{'time': '18:32', 'date': '9 сентября 1999', 'url': 'https://lenta.ru/news/1999/09/09/yeltsin/', 'header': 'Ельцин отверг обвинения в получении взяток'}\n",
      "\t{'time': '19:43', 'date': '9 сентября 1999', 'url': 'https://lenta.ru/news/1999/09/08/athens/', 'header': 'Землетрясение в Афинах: 72 человека погибли, 1500 ранены'}\n",
      "\t{'time': '21:44', 'date': '9 сентября 1999', 'url': 'https://lenta.ru/news/1999/09/09/chechnya/', 'header': 'Чечня обращается за помощью в ОБСЕ'}\n",
      "\t{'time': '21:57', 'date': '9 сентября 1999', 'url': 'https://lenta.ru/news/1999/09/09/train/', 'header': 'Депутаты будут ездить в электричках без льгот'}\n",
      "\t{'time': '22:18', 'date': '9 сентября 1999', 'url': 'https://lenta.ru/news/1999/09/09/ldpr/', 'header': 'ЛДПР не дали провести пикет'}\n",
      "\t{'time': '00:26', 'date': '9 сентября 1999', 'url': 'https://lenta.ru/news/1999/09/08/putin_minsk/', 'header': 'Путин прилетел в Минск и встретился с Лукашенко'}\n",
      "\t{'time': '00:45', 'date': '9 сентября 1999', 'url': 'https://lenta.ru/news/1999/09/08/dagestan/', 'header': 'Генштаб РФ вводит военную цензуру'}\n",
      "\t{'time': '01:13', 'date': '9 сентября 1999', 'url': 'https://lenta.ru/news/1999/09/08/azerbaijan/', 'header': 'В Азербайджане открыто крупное месторождение газа'}\n",
      "\t{'time': '01:32', 'date': '9 сентября 1999', 'url': 'https://lenta.ru/news/1999/09/08/uchastie/', 'header': 'Россия недовольна процессами в Косово'}\n",
      "\t{'time': '01:38', 'date': '9 сентября 1999', 'url': 'https://lenta.ru/news/1999/09/08/timor/', 'header': 'Нападение на австралийское посольство в Джакарте'}\n",
      "\t{'time': '17:37', 'date': '9 сентября 1999', 'url': 'https://lenta.ru/news/1999/09/08/borodin/', 'header': 'Управделами президента Бородин подает в суд на \"Corriere della Sera\"'}\n",
      "\t{'time': '19:04', 'date': '9 сентября 1999', 'url': 'https://lenta.ru/news/1999/09/09/israel/', 'header': 'Израиль освобождает палестинцев из заключения'}\n",
      "\t{'time': '20:13', 'date': '9 сентября 1999', 'url': 'https://lenta.ru/news/1999/09/09/benzin/', 'header': 'Бензин в Москве станет еще дороже'}\n",
      "\t{'time': '21:51', 'date': '9 сентября 1999', 'url': 'https://lenta.ru/news/1999/09/09/cenzura/', 'header': 'Якушкин: военной цензуры в России не будет'}\n",
      "\t{'time': '21:58', 'date': '9 сентября 1999', 'url': 'https://lenta.ru/news/1999/09/09/indonesia/', 'header': 'Индонезия не разрешила ввести войска ООН в Восточный Тимор'}\n",
      "\t{'time': '22:48', 'date': '9 сентября 1999', 'url': 'https://lenta.ru/news/1999/09/09/meningit/', 'header': 'Эпидемия менингитной лихорадки в Волгограде усиливается'}\n",
      "\t{'time': '00:29', 'date': '9 сентября 1999', 'url': 'https://lenta.ru/news/1999/09/08/nalog/', 'header': 'Министерство налогов и сборов взялось за АЗС'}\n",
      "\t{'time': '00:47', 'date': '9 сентября 1999', 'url': 'https://lenta.ru/news/1999/09/08/achinsk/', 'header': 'В Ачинске начались выступления рабочих против Лебедя'}\n",
      "\t{'time': '01:22', 'date': '9 сентября 1999', 'url': 'https://lenta.ru/news/1999/09/08/myr/', 'header': 'На станции \"Мир\" выключен главный компьютер'}\n",
      "\t{'time': '01:35', 'date': '9 сентября 1999', 'url': 'https://lenta.ru/news/1999/09/08/netaid/', 'header': 'Клинтон, Блэр, Мандела, Боно и Дэвид Боуи встречаются он-лайн'}\n",
      "\t{'time': '15:13', 'date': '9 сентября 1999', 'url': 'https://lenta.ru/news/1999/09/09/kosovo/', 'header': 'Югославия готова силой вернуть Косово в состав Сербии'}\n",
      "\t{'time': '17:38', 'date': '9 сентября 1999', 'url': 'https://lenta.ru/news/1999/09/09/aeroflot/', 'header': '\"Аэрофлот\" усиливает борьбу с курильщиками'}\n",
      "\t{'time': '19:42', 'date': '9 сентября 1999', 'url': 'https://lenta.ru/news/1999/09/09/estonia/', 'header': 'Банк Эстонии печатает дополнительные деньги из-за боязни \"Ошибки-2000\"'}\n",
      "\t{'time': '20:51', 'date': '9 сентября 1999', 'url': 'https://lenta.ru/news/1999/09/09/hleb/', 'header': 'В Курске спекулируют хлебом'}\n",
      "\t{'time': '21:53', 'date': '9 сентября 1999', 'url': 'https://lenta.ru/news/1999/09/09/dagestan/', 'header': 'В Дагестане сбит российский штурмовик Су-25'}\n",
      "\t{'time': '22:12', 'date': '9 сентября 1999', 'url': 'https://lenta.ru/news/1999/09/09/chp/', 'header': 'В России может быть введено военное положение'}\n",
      "\t{'time': '22:52', 'date': '9 сентября 1999', 'url': 'https://lenta.ru/news/1999/09/09/boos/', 'header': 'На ОРТ подали в суд за вольную трактовку интервью'}\n",
      "1999/09/10 -- https://lenta.ru/1999/09/10\n"
     ]
    },
    {
     "ename": "NoSuchWindowException",
     "evalue": "Message: no such window: window was already closed\n  (Session info: chrome=87.0.4280.88)\n",
     "output_type": "error",
     "traceback": [
      "\u001b[0;31m---------------------------------------------------------------------------\u001b[0m",
      "\u001b[0;31mNoSuchWindowException\u001b[0m                     Traceback (most recent call last)",
      "\u001b[0;32m<ipython-input-4-3ce9c4f2e520>\u001b[0m in \u001b[0;36m<module>\u001b[0;34m\u001b[0m\n\u001b[1;32m      9\u001b[0m     \u001b[0mprint\u001b[0m \u001b[0;34m(\u001b[0m\u001b[0;34m'{} -- {}'\u001b[0m\u001b[0;34m.\u001b[0m\u001b[0mformat\u001b[0m\u001b[0;34m(\u001b[0m\u001b[0mstart_date\u001b[0m\u001b[0;34m.\u001b[0m\u001b[0mstrftime\u001b[0m\u001b[0;34m(\u001b[0m\u001b[0;34m\"%Y/%m/%d\"\u001b[0m\u001b[0;34m)\u001b[0m\u001b[0;34m,\u001b[0m \u001b[0mURL\u001b[0m\u001b[0;34m)\u001b[0m\u001b[0;34m)\u001b[0m\u001b[0;34m\u001b[0m\u001b[0;34m\u001b[0m\u001b[0m\n\u001b[1;32m     10\u001b[0m     \u001b[0mdriver\u001b[0m\u001b[0;34m.\u001b[0m\u001b[0mget\u001b[0m\u001b[0;34m(\u001b[0m\u001b[0mURL\u001b[0m\u001b[0;34m)\u001b[0m\u001b[0;34m\u001b[0m\u001b[0;34m\u001b[0m\u001b[0m\n\u001b[0;32m---> 11\u001b[0;31m     \u001b[0mnews_headers\u001b[0m \u001b[0;34m=\u001b[0m \u001b[0mdriver\u001b[0m\u001b[0;34m.\u001b[0m\u001b[0mfind_elements_by_class_name\u001b[0m\u001b[0;34m(\u001b[0m\u001b[0;34m'item.news.b-tabloid__topic_news'\u001b[0m\u001b[0;34m)\u001b[0m\u001b[0;34m\u001b[0m\u001b[0;34m\u001b[0m\u001b[0m\n\u001b[0m\u001b[1;32m     12\u001b[0m     \u001b[0;32mfor\u001b[0m \u001b[0mone_news_block\u001b[0m \u001b[0;32min\u001b[0m \u001b[0mnews_headers\u001b[0m\u001b[0;34m:\u001b[0m\u001b[0;34m\u001b[0m\u001b[0;34m\u001b[0m\u001b[0m\n\u001b[1;32m     13\u001b[0m         \u001b[0mprint\u001b[0m\u001b[0;34m(\u001b[0m\u001b[0;34m'\\t{}'\u001b[0m\u001b[0;34m.\u001b[0m\u001b[0mformat\u001b[0m\u001b[0;34m(\u001b[0m\u001b[0mextract_properties\u001b[0m\u001b[0;34m(\u001b[0m\u001b[0mone_news_block\u001b[0m\u001b[0;34m)\u001b[0m\u001b[0;34m)\u001b[0m\u001b[0;34m)\u001b[0m\u001b[0;34m\u001b[0m\u001b[0;34m\u001b[0m\u001b[0m\n",
      "\u001b[0;32m~/opt/anaconda3/lib/python3.7/site-packages/selenium/webdriver/remote/webdriver.py\u001b[0m in \u001b[0;36mfind_elements_by_class_name\u001b[0;34m(self, name)\u001b[0m\n\u001b[1;32m    578\u001b[0m             \u001b[0melements\u001b[0m \u001b[0;34m=\u001b[0m \u001b[0mdriver\u001b[0m\u001b[0;34m.\u001b[0m\u001b[0mfind_elements_by_class_name\u001b[0m\u001b[0;34m(\u001b[0m\u001b[0;34m'foo'\u001b[0m\u001b[0;34m)\u001b[0m\u001b[0;34m\u001b[0m\u001b[0;34m\u001b[0m\u001b[0m\n\u001b[1;32m    579\u001b[0m         \"\"\"\n\u001b[0;32m--> 580\u001b[0;31m         \u001b[0;32mreturn\u001b[0m \u001b[0mself\u001b[0m\u001b[0;34m.\u001b[0m\u001b[0mfind_elements\u001b[0m\u001b[0;34m(\u001b[0m\u001b[0mby\u001b[0m\u001b[0;34m=\u001b[0m\u001b[0mBy\u001b[0m\u001b[0;34m.\u001b[0m\u001b[0mCLASS_NAME\u001b[0m\u001b[0;34m,\u001b[0m \u001b[0mvalue\u001b[0m\u001b[0;34m=\u001b[0m\u001b[0mname\u001b[0m\u001b[0;34m)\u001b[0m\u001b[0;34m\u001b[0m\u001b[0;34m\u001b[0m\u001b[0m\n\u001b[0m\u001b[1;32m    581\u001b[0m \u001b[0;34m\u001b[0m\u001b[0m\n\u001b[1;32m    582\u001b[0m     \u001b[0;32mdef\u001b[0m \u001b[0mfind_element_by_css_selector\u001b[0m\u001b[0;34m(\u001b[0m\u001b[0mself\u001b[0m\u001b[0;34m,\u001b[0m \u001b[0mcss_selector\u001b[0m\u001b[0;34m)\u001b[0m\u001b[0;34m:\u001b[0m\u001b[0;34m\u001b[0m\u001b[0;34m\u001b[0m\u001b[0m\n",
      "\u001b[0;32m~/opt/anaconda3/lib/python3.7/site-packages/selenium/webdriver/remote/webdriver.py\u001b[0m in \u001b[0;36mfind_elements\u001b[0;34m(self, by, value)\u001b[0m\n\u001b[1;32m   1005\u001b[0m         return self.execute(Command.FIND_ELEMENTS, {\n\u001b[1;32m   1006\u001b[0m             \u001b[0;34m'using'\u001b[0m\u001b[0;34m:\u001b[0m \u001b[0mby\u001b[0m\u001b[0;34m,\u001b[0m\u001b[0;34m\u001b[0m\u001b[0;34m\u001b[0m\u001b[0m\n\u001b[0;32m-> 1007\u001b[0;31m             'value': value})['value'] or []\n\u001b[0m\u001b[1;32m   1008\u001b[0m \u001b[0;34m\u001b[0m\u001b[0m\n\u001b[1;32m   1009\u001b[0m     \u001b[0;34m@\u001b[0m\u001b[0mproperty\u001b[0m\u001b[0;34m\u001b[0m\u001b[0;34m\u001b[0m\u001b[0m\n",
      "\u001b[0;32m~/opt/anaconda3/lib/python3.7/site-packages/selenium/webdriver/remote/webdriver.py\u001b[0m in \u001b[0;36mexecute\u001b[0;34m(self, driver_command, params)\u001b[0m\n\u001b[1;32m    319\u001b[0m         \u001b[0mresponse\u001b[0m \u001b[0;34m=\u001b[0m \u001b[0mself\u001b[0m\u001b[0;34m.\u001b[0m\u001b[0mcommand_executor\u001b[0m\u001b[0;34m.\u001b[0m\u001b[0mexecute\u001b[0m\u001b[0;34m(\u001b[0m\u001b[0mdriver_command\u001b[0m\u001b[0;34m,\u001b[0m \u001b[0mparams\u001b[0m\u001b[0;34m)\u001b[0m\u001b[0;34m\u001b[0m\u001b[0;34m\u001b[0m\u001b[0m\n\u001b[1;32m    320\u001b[0m         \u001b[0;32mif\u001b[0m \u001b[0mresponse\u001b[0m\u001b[0;34m:\u001b[0m\u001b[0;34m\u001b[0m\u001b[0;34m\u001b[0m\u001b[0m\n\u001b[0;32m--> 321\u001b[0;31m             \u001b[0mself\u001b[0m\u001b[0;34m.\u001b[0m\u001b[0merror_handler\u001b[0m\u001b[0;34m.\u001b[0m\u001b[0mcheck_response\u001b[0m\u001b[0;34m(\u001b[0m\u001b[0mresponse\u001b[0m\u001b[0;34m)\u001b[0m\u001b[0;34m\u001b[0m\u001b[0;34m\u001b[0m\u001b[0m\n\u001b[0m\u001b[1;32m    322\u001b[0m             response['value'] = self._unwrap_value(\n\u001b[1;32m    323\u001b[0m                 response.get('value', None))\n",
      "\u001b[0;32m~/opt/anaconda3/lib/python3.7/site-packages/selenium/webdriver/remote/errorhandler.py\u001b[0m in \u001b[0;36mcheck_response\u001b[0;34m(self, response)\u001b[0m\n\u001b[1;32m    240\u001b[0m                 \u001b[0malert_text\u001b[0m \u001b[0;34m=\u001b[0m \u001b[0mvalue\u001b[0m\u001b[0;34m[\u001b[0m\u001b[0;34m'alert'\u001b[0m\u001b[0;34m]\u001b[0m\u001b[0;34m.\u001b[0m\u001b[0mget\u001b[0m\u001b[0;34m(\u001b[0m\u001b[0;34m'text'\u001b[0m\u001b[0;34m)\u001b[0m\u001b[0;34m\u001b[0m\u001b[0;34m\u001b[0m\u001b[0m\n\u001b[1;32m    241\u001b[0m             \u001b[0;32mraise\u001b[0m \u001b[0mexception_class\u001b[0m\u001b[0;34m(\u001b[0m\u001b[0mmessage\u001b[0m\u001b[0;34m,\u001b[0m \u001b[0mscreen\u001b[0m\u001b[0;34m,\u001b[0m \u001b[0mstacktrace\u001b[0m\u001b[0;34m,\u001b[0m \u001b[0malert_text\u001b[0m\u001b[0;34m)\u001b[0m\u001b[0;34m\u001b[0m\u001b[0;34m\u001b[0m\u001b[0m\n\u001b[0;32m--> 242\u001b[0;31m         \u001b[0;32mraise\u001b[0m \u001b[0mexception_class\u001b[0m\u001b[0;34m(\u001b[0m\u001b[0mmessage\u001b[0m\u001b[0;34m,\u001b[0m \u001b[0mscreen\u001b[0m\u001b[0;34m,\u001b[0m \u001b[0mstacktrace\u001b[0m\u001b[0;34m)\u001b[0m\u001b[0;34m\u001b[0m\u001b[0;34m\u001b[0m\u001b[0m\n\u001b[0m\u001b[1;32m    243\u001b[0m \u001b[0;34m\u001b[0m\u001b[0m\n\u001b[1;32m    244\u001b[0m     \u001b[0;32mdef\u001b[0m \u001b[0m_value_or_default\u001b[0m\u001b[0;34m(\u001b[0m\u001b[0mself\u001b[0m\u001b[0;34m,\u001b[0m \u001b[0mobj\u001b[0m\u001b[0;34m,\u001b[0m \u001b[0mkey\u001b[0m\u001b[0;34m,\u001b[0m \u001b[0mdefault\u001b[0m\u001b[0;34m)\u001b[0m\u001b[0;34m:\u001b[0m\u001b[0;34m\u001b[0m\u001b[0;34m\u001b[0m\u001b[0m\n",
      "\u001b[0;31mNoSuchWindowException\u001b[0m: Message: no such window: window was already closed\n  (Session info: chrome=87.0.4280.88)\n"
     ]
    }
   ],
   "source": [
    "from datetime import date, timedelta\n",
    "\n",
    "start_date = date(1999, 8, 31)\n",
    "end_date = date(1999, 9, 10)\n",
    "delta = timedelta(days=1)\n",
    "while start_date <= end_date:\n",
    "    \n",
    "    URL = 'https://lenta.ru/{}'.format(start_date.strftime(\"%Y/%m/%d\"))\n",
    "    print ('{} -- {}'.format(start_date.strftime(\"%Y/%m/%d\"), URL))\n",
    "    driver.get(URL)\n",
    "    news_headers = driver.find_elements_by_class_name('item.news.b-tabloid__topic_news')\n",
    "    for one_news_block in news_headers:\n",
    "        print('\\t{}'.format(extract_properties(one_news_block)))\n",
    "    start_date += delta\n",
    "    \n"
   ]
  },
  {
   "cell_type": "code",
   "execution_count": 24,
   "metadata": {},
   "outputs": [
    {
     "data": {
      "text/plain": [
       "'https://lenta.ru/1999/9/4/'"
      ]
     },
     "execution_count": 24,
     "metadata": {},
     "output_type": "execute_result"
    }
   ],
   "source": [
    "'https://lenta.ru/{}/{}/{}/'.format(start_date.year, start_date.month, start_date.day)"
   ]
  },
  {
   "cell_type": "code",
   "execution_count": 7,
   "metadata": {},
   "outputs": [],
   "source": [
    "news_headers = driver.find_elements_by_class_name('item.news.b-tabloid__topic_news')"
   ]
  },
  {
   "cell_type": "code",
   "execution_count": 20,
   "metadata": {},
   "outputs": [
    {
     "name": "stdout",
     "output_type": "stream",
     "text": [
      "{'time': '22:53', 'date': '31 августа 1999', 'url': 'https://lenta.ru/russia/1999/08/31/tamozhnya/', 'header': 'C 1 сентября вводится новая форма таможенной декларации'}\n",
      "{'time': '22:53', 'date': '31 августа 1999', 'url': 'https://lenta.ru/news/1999/08/31/timor/', 'header': 'Референдум по вопросу о самоопределении Восточного Тимора прошел успешно'}\n",
      "{'time': '22:53', 'date': '31 августа 1999', 'url': 'https://lenta.ru/news/1999/08/31/limonov/', 'header': 'Российские национал-большевики убирают территорию Севастополя'}\n",
      "{'time': '22:53', 'date': '31 августа 1999', 'url': 'https://lenta.ru/news/1999/08/31/karachaevo/', 'header': 'Карачаево-Черкесия раскололась по национальному признаку'}\n",
      "{'time': '22:53', 'date': '31 августа 1999', 'url': 'https://lenta.ru/news/1999/08/31/kirgizia/', 'header': 'Киргизия ведет бои на границах с Таджикистаном и Узбекистаном'}\n",
      "{'time': '22:53', 'date': '31 августа 1999', 'url': 'https://lenta.ru/news/1999/08/31/litva/', 'header': 'Литва засудила участников переворота 91 года'}\n",
      "{'time': '22:53', 'date': '31 августа 1999', 'url': 'https://lenta.ru/news/1999/08/31/cholera/', 'header': 'Южно-Сахалинск объявлен очагом холеры'}\n",
      "{'time': '22:53', 'date': '31 августа 1999', 'url': 'https://lenta.ru/news/1999/08/31/korzhakov/', 'header': 'Коржаков готов рассказать Генпрокуратуре про финансовое состояние Ельцина'}\n",
      "{'time': '22:53', 'date': '31 августа 1999', 'url': 'https://lenta.ru/news/1999/08/31/turkey_quake/', 'header': 'Еще одно землетрясение в Турции: один человек погиб, около 70 ранены'}\n",
      "{'time': '22:53', 'date': '31 августа 1999', 'url': 'https://lenta.ru/news/1999/08/31/dagestan/', 'header': 'В горах Дагестана идут активные боевые действия'}\n",
      "{'time': '22:53', 'date': '31 августа 1999', 'url': 'https://lenta.ru/news/1999/08/31/polit_blok/', 'header': 'Леворадикалы создают предвыборный блок'}\n"
     ]
    }
   ],
   "source": [
    "for one_news_block in news_headers:\n",
    "    print(extract_properties(one_news_block))"
   ]
  },
  {
   "cell_type": "code",
   "execution_count": 9,
   "metadata": {},
   "outputs": [],
   "source": []
  },
  {
   "cell_type": "markdown",
   "metadata": {},
   "source": [
    "# Interfax"
   ]
  },
  {
   "cell_type": "code",
   "execution_count": 62,
   "metadata": {},
   "outputs": [],
   "source": [
    "from tinydb import TinyDB, Query"
   ]
  },
  {
   "cell_type": "code",
   "execution_count": 78,
   "metadata": {},
   "outputs": [],
   "source": [
    "db = TinyDB('interfax.json', indent=4, ensure_ascii = False, encoding = 'utf-8')"
   ]
  },
  {
   "cell_type": "code",
   "execution_count": 77,
   "metadata": {},
   "outputs": [],
   "source": [
    "db.close()"
   ]
  },
  {
   "cell_type": "code",
   "execution_count": 73,
   "metadata": {},
   "outputs": [
    {
     "data": {
      "text/plain": [
       "'https://www.interfax.ru/news/2008/02/12'"
      ]
     },
     "execution_count": 73,
     "metadata": {},
     "output_type": "execute_result"
    }
   ],
   "source": [
    "NEXT_PAGE"
   ]
  },
  {
   "cell_type": "code",
   "execution_count": 79,
   "metadata": {},
   "outputs": [],
   "source": [
    "INTERFAX_URL = 'https://www.interfax.ru/news/2008/02/11'"
   ]
  },
  {
   "cell_type": "code",
   "execution_count": 80,
   "metadata": {},
   "outputs": [],
   "source": [
    "NEXT_PAGE = INTERFAX_URL \n",
    "url_by_specific_date = []"
   ]
  },
  {
   "cell_type": "code",
   "execution_count": 127,
   "metadata": {},
   "outputs": [
    {
     "name": "stdout",
     "output_type": "stream",
     "text": [
      "2008 02 22\n",
      "URL https://www.interfax.ru/news/2008/02/22, date = 2008.02.22\n"
     ]
    }
   ],
   "source": [
    "driver.get(NEXT_PAGE)\n",
    "\n",
    "DAY = NEXT_PAGE.split('/')[6]\n",
    "MONTH = NEXT_PAGE.split('/')[5]\n",
    "YEAR = NEXT_PAGE.split('/')[4]\n",
    "print(DAY, MONTH, YEAR)\n",
    "\n",
    "date_str = '{}.{}.{}'.format(DAY, MONTH, YEAR)\n",
    "print('URL {}, date = {}'.format(NEXT_PAGE, date_str))\n"
   ]
  },
  {
   "cell_type": "code",
   "execution_count": 128,
   "metadata": {},
   "outputs": [],
   "source": [
    "division_list = driver.find_elements_by_tag_name('div')\n",
    "for one_div in division_list:\n",
    "    if one_div.get_attribute('data-id') is not None:\n",
    "        link = one_div\n",
    "        \n",
    "        time = link.find_element_by_tag_name('span').text\n",
    "        url_link = link.find_element_by_tag_name('a').get_attribute('href')\n",
    "        header = link.find_element_by_tag_name('a').get_attribute('text')\n",
    "        \n",
    "        news_descriptor = {\n",
    "            'date' : date_str,\n",
    "            'time' : time,\n",
    "            'url': url_link,\n",
    "            'header' : header\n",
    "        }\n",
    "        url_by_specific_date.append(news_descriptor)\n",
    "        db.insert(news_descriptor)"
   ]
  },
  {
   "cell_type": "code",
   "execution_count": 129,
   "metadata": {},
   "outputs": [
    {
     "name": "stdout",
     "output_type": "stream",
     "text": [
      "Next active page: \n",
      "Next page: https://www.interfax.ru/news/2008/02/23\n"
     ]
    }
   ],
   "source": [
    "nav_segment = driver.find_element_by_class_name('nav')\n",
    "pages_segment = driver.find_element_by_class_name('pages')\n",
    "date_segment = driver.find_element_by_class_name('date')\n",
    "\n",
    "was_active = False\n",
    "NEXT_ACTIVE_PAGE = ''\n",
    "for a_href in pages_segment.find_elements_by_tag_name('a'):\n",
    "    if a_href.get_attribute('class') == 'active':\n",
    "        was_active = True\n",
    "        continue\n",
    "    if was_active:\n",
    "        NEXT_ACTIVE_PAGE = a_href.get_attribute('href')\n",
    "    print(a_href.text, a_href.get_attribute('class'))\n",
    "\n",
    "\n",
    "NEXT_DATE_PAGE = date_segment.find_elements_by_tag_name('a')[-1].get_attribute('href')\n",
    "\n",
    "if NEXT_ACTIVE_PAGE:\n",
    "    NEXT_PAGE = NEXT_ACTIVE_PAGE\n",
    "else:\n",
    "    NEXT_PAGE = NEXT_DATE_PAGE\n",
    "    \n",
    "    \n",
    "print('Next active page: {}'.format(NEXT_ACTIVE_PAGE))\n",
    "print('Next page: {}'.format(NEXT_PAGE))\n",
    "\n"
   ]
  },
  {
   "cell_type": "markdown",
   "metadata": {},
   "source": [
    "# Kommersant"
   ]
  },
  {
   "cell_type": "code",
   "execution_count": null,
   "metadata": {},
   "outputs": [],
   "source": []
  },
  {
   "cell_type": "code",
   "execution_count": 130,
   "metadata": {},
   "outputs": [],
   "source": [
    "from selenium.webdriver import ActionChains"
   ]
  },
  {
   "cell_type": "code",
   "execution_count": 133,
   "metadata": {},
   "outputs": [],
   "source": [
    "K_URL = 'https://www.kommersant.ru/archive/news/day/2020-04-11'"
   ]
  },
  {
   "cell_type": "code",
   "execution_count": 134,
   "metadata": {},
   "outputs": [],
   "source": [
    "driver.get(K_URL)"
   ]
  },
  {
   "cell_type": "code",
   "execution_count": 140,
   "metadata": {},
   "outputs": [
    {
     "ename": "NoSuchElementException",
     "evalue": "Message: no such element: Unable to locate element: {\"method\":\"css selector\",\"selector\":\".ui_button.ui_button--load_content.lazyload-button\"}\n  (Session info: chrome=87.0.4280.88)\n",
     "output_type": "error",
     "traceback": [
      "\u001b[0;31m---------------------------------------------------------------------------\u001b[0m",
      "\u001b[0;31mNoSuchElementException\u001b[0m                    Traceback (most recent call last)",
      "\u001b[0;32m<ipython-input-140-74da3b4f528f>\u001b[0m in \u001b[0;36m<module>\u001b[0;34m\u001b[0m\n\u001b[0;32m----> 1\u001b[0;31m \u001b[0mbutton_element\u001b[0m \u001b[0;34m=\u001b[0m \u001b[0mdriver\u001b[0m\u001b[0;34m.\u001b[0m\u001b[0mfind_element_by_class_name\u001b[0m\u001b[0;34m(\u001b[0m\u001b[0;34m'ui_button.ui_button--load_content.lazyload-button'\u001b[0m\u001b[0;34m)\u001b[0m\u001b[0;34m\u001b[0m\u001b[0;34m\u001b[0m\u001b[0m\n\u001b[0m\u001b[1;32m      2\u001b[0m \u001b[0mbutton_element\u001b[0m\u001b[0;34m\u001b[0m\u001b[0;34m\u001b[0m\u001b[0m\n",
      "\u001b[0;32m~/opt/anaconda3/lib/python3.7/site-packages/selenium/webdriver/remote/webdriver.py\u001b[0m in \u001b[0;36mfind_element_by_class_name\u001b[0;34m(self, name)\u001b[0m\n\u001b[1;32m    562\u001b[0m             \u001b[0melement\u001b[0m \u001b[0;34m=\u001b[0m \u001b[0mdriver\u001b[0m\u001b[0;34m.\u001b[0m\u001b[0mfind_element_by_class_name\u001b[0m\u001b[0;34m(\u001b[0m\u001b[0;34m'foo'\u001b[0m\u001b[0;34m)\u001b[0m\u001b[0;34m\u001b[0m\u001b[0;34m\u001b[0m\u001b[0m\n\u001b[1;32m    563\u001b[0m         \"\"\"\n\u001b[0;32m--> 564\u001b[0;31m         \u001b[0;32mreturn\u001b[0m \u001b[0mself\u001b[0m\u001b[0;34m.\u001b[0m\u001b[0mfind_element\u001b[0m\u001b[0;34m(\u001b[0m\u001b[0mby\u001b[0m\u001b[0;34m=\u001b[0m\u001b[0mBy\u001b[0m\u001b[0;34m.\u001b[0m\u001b[0mCLASS_NAME\u001b[0m\u001b[0;34m,\u001b[0m \u001b[0mvalue\u001b[0m\u001b[0;34m=\u001b[0m\u001b[0mname\u001b[0m\u001b[0;34m)\u001b[0m\u001b[0;34m\u001b[0m\u001b[0;34m\u001b[0m\u001b[0m\n\u001b[0m\u001b[1;32m    565\u001b[0m \u001b[0;34m\u001b[0m\u001b[0m\n\u001b[1;32m    566\u001b[0m     \u001b[0;32mdef\u001b[0m \u001b[0mfind_elements_by_class_name\u001b[0m\u001b[0;34m(\u001b[0m\u001b[0mself\u001b[0m\u001b[0;34m,\u001b[0m \u001b[0mname\u001b[0m\u001b[0;34m)\u001b[0m\u001b[0;34m:\u001b[0m\u001b[0;34m\u001b[0m\u001b[0;34m\u001b[0m\u001b[0m\n",
      "\u001b[0;32m~/opt/anaconda3/lib/python3.7/site-packages/selenium/webdriver/remote/webdriver.py\u001b[0m in \u001b[0;36mfind_element\u001b[0;34m(self, by, value)\u001b[0m\n\u001b[1;32m    976\u001b[0m         return self.execute(Command.FIND_ELEMENT, {\n\u001b[1;32m    977\u001b[0m             \u001b[0;34m'using'\u001b[0m\u001b[0;34m:\u001b[0m \u001b[0mby\u001b[0m\u001b[0;34m,\u001b[0m\u001b[0;34m\u001b[0m\u001b[0;34m\u001b[0m\u001b[0m\n\u001b[0;32m--> 978\u001b[0;31m             'value': value})['value']\n\u001b[0m\u001b[1;32m    979\u001b[0m \u001b[0;34m\u001b[0m\u001b[0m\n\u001b[1;32m    980\u001b[0m     \u001b[0;32mdef\u001b[0m \u001b[0mfind_elements\u001b[0m\u001b[0;34m(\u001b[0m\u001b[0mself\u001b[0m\u001b[0;34m,\u001b[0m \u001b[0mby\u001b[0m\u001b[0;34m=\u001b[0m\u001b[0mBy\u001b[0m\u001b[0;34m.\u001b[0m\u001b[0mID\u001b[0m\u001b[0;34m,\u001b[0m \u001b[0mvalue\u001b[0m\u001b[0;34m=\u001b[0m\u001b[0;32mNone\u001b[0m\u001b[0;34m)\u001b[0m\u001b[0;34m:\u001b[0m\u001b[0;34m\u001b[0m\u001b[0;34m\u001b[0m\u001b[0m\n",
      "\u001b[0;32m~/opt/anaconda3/lib/python3.7/site-packages/selenium/webdriver/remote/webdriver.py\u001b[0m in \u001b[0;36mexecute\u001b[0;34m(self, driver_command, params)\u001b[0m\n\u001b[1;32m    319\u001b[0m         \u001b[0mresponse\u001b[0m \u001b[0;34m=\u001b[0m \u001b[0mself\u001b[0m\u001b[0;34m.\u001b[0m\u001b[0mcommand_executor\u001b[0m\u001b[0;34m.\u001b[0m\u001b[0mexecute\u001b[0m\u001b[0;34m(\u001b[0m\u001b[0mdriver_command\u001b[0m\u001b[0;34m,\u001b[0m \u001b[0mparams\u001b[0m\u001b[0;34m)\u001b[0m\u001b[0;34m\u001b[0m\u001b[0;34m\u001b[0m\u001b[0m\n\u001b[1;32m    320\u001b[0m         \u001b[0;32mif\u001b[0m \u001b[0mresponse\u001b[0m\u001b[0;34m:\u001b[0m\u001b[0;34m\u001b[0m\u001b[0;34m\u001b[0m\u001b[0m\n\u001b[0;32m--> 321\u001b[0;31m             \u001b[0mself\u001b[0m\u001b[0;34m.\u001b[0m\u001b[0merror_handler\u001b[0m\u001b[0;34m.\u001b[0m\u001b[0mcheck_response\u001b[0m\u001b[0;34m(\u001b[0m\u001b[0mresponse\u001b[0m\u001b[0;34m)\u001b[0m\u001b[0;34m\u001b[0m\u001b[0;34m\u001b[0m\u001b[0m\n\u001b[0m\u001b[1;32m    322\u001b[0m             response['value'] = self._unwrap_value(\n\u001b[1;32m    323\u001b[0m                 response.get('value', None))\n",
      "\u001b[0;32m~/opt/anaconda3/lib/python3.7/site-packages/selenium/webdriver/remote/errorhandler.py\u001b[0m in \u001b[0;36mcheck_response\u001b[0;34m(self, response)\u001b[0m\n\u001b[1;32m    240\u001b[0m                 \u001b[0malert_text\u001b[0m \u001b[0;34m=\u001b[0m \u001b[0mvalue\u001b[0m\u001b[0;34m[\u001b[0m\u001b[0;34m'alert'\u001b[0m\u001b[0;34m]\u001b[0m\u001b[0;34m.\u001b[0m\u001b[0mget\u001b[0m\u001b[0;34m(\u001b[0m\u001b[0;34m'text'\u001b[0m\u001b[0;34m)\u001b[0m\u001b[0;34m\u001b[0m\u001b[0;34m\u001b[0m\u001b[0m\n\u001b[1;32m    241\u001b[0m             \u001b[0;32mraise\u001b[0m \u001b[0mexception_class\u001b[0m\u001b[0;34m(\u001b[0m\u001b[0mmessage\u001b[0m\u001b[0;34m,\u001b[0m \u001b[0mscreen\u001b[0m\u001b[0;34m,\u001b[0m \u001b[0mstacktrace\u001b[0m\u001b[0;34m,\u001b[0m \u001b[0malert_text\u001b[0m\u001b[0;34m)\u001b[0m\u001b[0;34m\u001b[0m\u001b[0;34m\u001b[0m\u001b[0m\n\u001b[0;32m--> 242\u001b[0;31m         \u001b[0;32mraise\u001b[0m \u001b[0mexception_class\u001b[0m\u001b[0;34m(\u001b[0m\u001b[0mmessage\u001b[0m\u001b[0;34m,\u001b[0m \u001b[0mscreen\u001b[0m\u001b[0;34m,\u001b[0m \u001b[0mstacktrace\u001b[0m\u001b[0;34m)\u001b[0m\u001b[0;34m\u001b[0m\u001b[0;34m\u001b[0m\u001b[0m\n\u001b[0m\u001b[1;32m    243\u001b[0m \u001b[0;34m\u001b[0m\u001b[0m\n\u001b[1;32m    244\u001b[0m     \u001b[0;32mdef\u001b[0m \u001b[0m_value_or_default\u001b[0m\u001b[0;34m(\u001b[0m\u001b[0mself\u001b[0m\u001b[0;34m,\u001b[0m \u001b[0mobj\u001b[0m\u001b[0;34m,\u001b[0m \u001b[0mkey\u001b[0m\u001b[0;34m,\u001b[0m \u001b[0mdefault\u001b[0m\u001b[0;34m)\u001b[0m\u001b[0;34m:\u001b[0m\u001b[0;34m\u001b[0m\u001b[0;34m\u001b[0m\u001b[0m\n",
      "\u001b[0;31mNoSuchElementException\u001b[0m: Message: no such element: Unable to locate element: {\"method\":\"css selector\",\"selector\":\".ui_button.ui_button--load_content.lazyload-button\"}\n  (Session info: chrome=87.0.4280.88)\n"
     ]
    }
   ],
   "source": [
    "\n",
    "button_element = driver.find_element_by_class_name('ui_button.ui_button--load_content.lazyload-button')\n",
    "button_element"
   ]
  },
  {
   "cell_type": "code",
   "execution_count": 139,
   "metadata": {},
   "outputs": [],
   "source": [
    "ActionChains(driver).click(button_element).perform()"
   ]
  },
  {
   "cell_type": "code",
   "execution_count": 141,
   "metadata": {},
   "outputs": [],
   "source": [
    "news_element = driver.find_element_by_class_name('archive_date_result__list')"
   ]
  },
  {
   "cell_type": "code",
   "execution_count": 147,
   "metadata": {},
   "outputs": [
    {
     "name": "stdout",
     "output_type": "stream",
     "text": [
      "В нидерландском аэропорту Схипхол задержан вооруженный мужчина - https://www.kommersant.ru/doc/4320453 == 23:56\n",
      "В Москве умерли еще 14 пациентов с коронавирусом - https://www.kommersant.ru/doc/4320451 == 23:30\n",
      "В США умерли более 20 тыс. человек от коронавируса - https://www.kommersant.ru/doc/4320450 == 23:22\n",
      "Африканские нефтедобытчики заявили о решении сокращать добычу нефти вместе с ОПЕК+ - https://www.kommersant.ru/doc/4320448 == 22:50\n",
      "Велосипедистам в Москве также потребуются спецпропуска - https://www.kommersant.ru/doc/4320447 == 22:17\n",
      "Кучерена: пропускной режим в Москве должен иметь профилактический характер - https://www.kommersant.ru/doc/4320446 == 21:58\n",
      "Москалькова назвала введение цифровых пропусков обоснованной мерой - https://www.kommersant.ru/doc/4320444 == 21:23\n",
      "СМИ: экс-сотрудница Байдена написала заявление в полицию, обвинив его в домогательствах - https://www.kommersant.ru/doc/4320425 == 21:01\n",
      "Власти удалят данные электронных пропусков москвичей после карантина - https://www.kommersant.ru/doc/4320441 == 20:39\n",
      "Между Москвой и областью будет действовать «роуминг» цифровых пропусков - https://www.kommersant.ru/doc/4320440 == 20:34\n",
      "Силовикам и судьям не нужен пропуск для передвижения на транспорте по Москве - https://www.kommersant.ru/doc/4320438 == 20:23\n",
      "Group-IB обнаружила мошенническую рассылку о штрафах за нарушение карантина - https://www.kommersant.ru/doc/4320401 == 20:03\n",
      "Цифровые пропуска для поездок на любом транспорте вводятся в Москве и области с 15 апреля - https://www.kommersant.ru/doc/4320434 == 19:38\n",
      "Собянин поставил задачу тестировать на коронавирус за 24 часа - https://www.kommersant.ru/doc/4320423 == 19:26\n",
      "ТАСС: в Москву ограничили въезд из других регионов - https://www.kommersant.ru/doc/4320430 == 19:02\n",
      "Федун оценил выгоду России от нового соглашения с ОПЕК - https://www.kommersant.ru/doc/4320410 == 18:58\n",
      "ГАЗ возобновит производство автомобилей с 13 апреля - https://www.kommersant.ru/doc/4320409 == 18:44\n",
      "МИД РФ принял к сведению указ Трампа о возможном введении новых санкций - https://www.kommersant.ru/doc/4320420 == 18:36\n",
      "«Медуза»: в Москве поликлинику закрыли на карантин из-за вспышки коронавируса - https://www.kommersant.ru/doc/4320419 == 18:27\n",
      "Курс лечения от коронавируса может стоить меньше $1 - https://www.kommersant.ru/doc/4320377 == 18:01\n",
      "Неизвестные сообщили о минировании шести внутрироссийских авиарейсов - https://www.kommersant.ru/doc/4320418 == 17:48\n",
      "Сотрудников администрации президента России почти ежедневно тестируют на коронавирус - https://www.kommersant.ru/doc/4320399 == 17:29\n",
      "Муфтий Ингушетии умер от коронавируса - https://www.kommersant.ru/doc/4320417 == 17:16\n",
      "Верховный суд готовит разъяснения о работе в период карантина - https://www.kommersant.ru/doc/4320412 == 17:05\n",
      "МЧС предупредило о сильном ветре в Москве - https://www.kommersant.ru/doc/4320408 == 16:54\n",
      "Правительство освободило часть малого бизнеса от уплаты аренды федерального имущества - https://www.kommersant.ru/doc/4320406 == 16:47\n",
      "В Смоленской области умер первый пациент с коронавирусом - https://www.kommersant.ru/doc/4320402 == 16:20\n",
      "Песков: Россия и США должны помогать друг другу - https://www.kommersant.ru/doc/4320390 == 15:46\n",
      "Кремль: парад Победы обязательно состоится, 9 мая или позднее - https://www.kommersant.ru/doc/4320393 == 15:31\n",
      "В Уфе проверяют на халатность руководство больницы, в которой произошла вспышка коронавируса - https://www.kommersant.ru/doc/4320387 == 15:20\n"
     ]
    }
   ],
   "source": [
    "for one_title in news_element.find_elements_by_class_name('archive_date_result__item'):\n",
    "    target_element = one_title.find_element_by_tag_name('a')\n",
    "    time_element = one_title.find_element_by_tag_name('time')\n",
    "    print(target_element.text.split('\\n')[-1], '-', target_element.get_attribute('href'), '==', time_element.text)\n"
   ]
  },
  {
   "cell_type": "code",
   "execution_count": 153,
   "metadata": {},
   "outputs": [],
   "source": [
    "nextElement = driver.find_element_by_class_name('archive_date__arrow.archive_date__arrow--next.js-archive-next')"
   ]
  },
  {
   "cell_type": "code",
   "execution_count": 155,
   "metadata": {},
   "outputs": [
    {
     "data": {
      "text/plain": [
       "'https://www.kommersant.ru/archive/news/day/2020-04-12'"
      ]
     },
     "execution_count": 155,
     "metadata": {},
     "output_type": "execute_result"
    }
   ],
   "source": [
    "nextElement.get_attribute('href')"
   ]
  },
  {
   "cell_type": "code",
   "execution_count": null,
   "metadata": {},
   "outputs": [],
   "source": []
  }
 ],
 "metadata": {
  "kernelspec": {
   "display_name": "Python 3",
   "language": "python",
   "name": "python3"
  },
  "language_info": {
   "codemirror_mode": {
    "name": "ipython",
    "version": 3
   },
   "file_extension": ".py",
   "mimetype": "text/x-python",
   "name": "python",
   "nbconvert_exporter": "python",
   "pygments_lexer": "ipython3",
   "version": "3.7.6"
  }
 },
 "nbformat": 4,
 "nbformat_minor": 4
}
